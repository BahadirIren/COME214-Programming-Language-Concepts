{
 "cells": [
  {
   "cell_type": "code",
   "execution_count": 10,
   "metadata": {},
   "outputs": [
    {
     "name": "stdout",
     "output_type": "stream",
     "text": [
      "Enter x: 4\n",
      "0.38325087879201303\n",
      "0.38\n"
     ]
    }
   ],
   "source": [
    "# math equation example\n",
    "import math\n",
    "x = int(input(\"Enter x: \"))\n",
    "\n",
    "y = (x + (math.sqrt(x + 4))) / (pow(x,2) + pow(x + 2, 1/3))\n",
    "\n",
    "print(y)\n",
    "print(format(y,\".2f\"))"
   ]
  },
  {
   "cell_type": "code",
   "execution_count": 13,
   "metadata": {},
   "outputs": [
    {
     "name": "stdout",
     "output_type": "stream",
     "text": [
      "Enter x: 3\n",
      "0.2727272727272727\n",
      "0.27\n"
     ]
    }
   ],
   "source": [
    "# math equation example\n",
    "import math\n",
    "x = int(input(\"Enter x: \"))\n",
    "\n",
    "if x <= 5 :\n",
    "    y = x / (pow(x,2) + 2)\n",
    "else:\n",
    "    y = x / (1 + (math.sqrt(x + 1)))\n",
    "\n",
    "print(y)\n",
    "print(format(y,\".2f\"))"
   ]
  },
  {
   "cell_type": "code",
   "execution_count": 14,
   "metadata": {},
   "outputs": [
    {
     "name": "stdout",
     "output_type": "stream",
     "text": [
      "Enter a: 1\n",
      "Enter b: 2\n",
      "Enter c: 1\n",
      "-1.0\n",
      "-1.0\n"
     ]
    }
   ],
   "source": [
    "# discriminant example\n",
    "import math\n",
    "a = int(input(\"Enter a: \"))\n",
    "b = int(input(\"Enter b: \"))\n",
    "c = int(input(\"Enter c : \"))\n",
    "\n",
    "delta = pow(b,2) - 4*a*c\n",
    "\n",
    "if delta < 0 :\n",
    "    print(\"There is no real root\")\n",
    "elif delta == 0:\n",
    "    x1 = -b / 2*a\n",
    "    x2 = x1\n",
    "    print(x1)\n",
    "    print(x2)\n",
    "else :\n",
    "    x1 = (-b + math.sqrt(delta)) / 2*a\n",
    "    x2 = (-b - math.sqrt(delta)) / 2*a\n",
    "    print(x1)\n",
    "    print(x2)"
   ]
  },
  {
   "cell_type": "code",
   "execution_count": 16,
   "metadata": {},
   "outputs": [
    {
     "name": "stdout",
     "output_type": "stream",
     "text": [
      "Enter n: 11\n",
      "66\n"
     ]
    }
   ],
   "source": [
    "# summation 1+2+....+N\n",
    "N = int(input(\"Enter n: \"))\n",
    "sum = 0\n",
    "for i in range(1,N+1):\n",
    "    sum += i\n",
    "print(sum)"
   ]
  },
  {
   "cell_type": "code",
   "execution_count": 22,
   "metadata": {},
   "outputs": [
    {
     "name": "stdout",
     "output_type": "stream",
     "text": [
      "Enter n: 2\n",
      "2\n",
      "4\n",
      "6\n",
      "8\n",
      "10\n",
      "12\n",
      "14\n",
      "16\n",
      "18\n",
      "20\n"
     ]
    }
   ],
   "source": [
    "# multiplication table\n",
    "n = int(input(\"Enter n: \"))\n",
    "for i in range(1,11):\n",
    "    print(n*i)"
   ]
  },
  {
   "cell_type": "code",
   "execution_count": 55,
   "metadata": {},
   "outputs": [
    {
     "name": "stdout",
     "output_type": "stream",
     "text": [
      "Enter integer number: 6\n",
      "6 is not prime number\n"
     ]
    }
   ],
   "source": [
    "# prime number\n",
    "num = int(input(\"Enter integer number: \"))\n",
    "\n",
    "if num == 1:\n",
    "    print(\"1 is not prime number\")\n",
    "else:\n",
    "    for i in range(2,num):\n",
    "        if num % i == 0:\n",
    "            prime = False\n",
    "            break     # when it found it is not prime, exit the loop otherwise it won't work properly\n",
    "        else:\n",
    "            prime = True\n",
    "    if prime:\n",
    "        print(num,\"is prime number\")\n",
    "    else:\n",
    "        print(num,\"is not prime number\")"
   ]
  },
  {
   "cell_type": "code",
   "execution_count": 76,
   "metadata": {},
   "outputs": [
    {
     "name": "stdout",
     "output_type": "stream",
     "text": [
      "Enter integer number: 5\n",
      "factorial of 5 is 120\n"
     ]
    }
   ],
   "source": [
    "# factorial \n",
    "num = int(input(\"Enter integer number: \"))\n",
    "factorial = 1\n",
    "\n",
    "if num < 0:\n",
    "    print(\"Enter positive number\")\n",
    "else:\n",
    "    for i in range(2, num+1):\n",
    "        factorial *= i\n",
    "    print(\"factorial of\",num, \"is\", factorial)"
   ]
  },
  {
   "cell_type": "code",
   "execution_count": null,
   "metadata": {},
   "outputs": [],
   "source": []
  }
 ],
 "metadata": {
  "kernelspec": {
   "display_name": "Python 3",
   "language": "python",
   "name": "python3"
  },
  "language_info": {
   "codemirror_mode": {
    "name": "ipython",
    "version": 3
   },
   "file_extension": ".py",
   "mimetype": "text/x-python",
   "name": "python",
   "nbconvert_exporter": "python",
   "pygments_lexer": "ipython3",
   "version": "3.8.5"
  }
 },
 "nbformat": 4,
 "nbformat_minor": 4
}
