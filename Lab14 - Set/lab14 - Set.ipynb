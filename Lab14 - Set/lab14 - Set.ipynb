{
 "cells": [
  {
   "cell_type": "code",
   "execution_count": 34,
   "id": "21fde966",
   "metadata": {},
   "outputs": [
    {
     "name": "stdout",
     "output_type": "stream",
     "text": [
      "['make', 'it'] , 3\n"
     ]
    }
   ],
   "source": [
    "Hey_Jude=['Hey', 'Jude', \"don't\", 'make', 'it', 'bad',\n",
    "'Take', 'a', 'sad', 'song', 'and', 'make', 'it', 'better',\n",
    "'Remember' ,'to', 'let', 'her', 'into', 'your', 'heart',\n",
    "'Then' ,'you' ,'can' ,'start' ,'to' ,'make' ,'it' ,'better']\n",
    "\n",
    "my_dict = {}\n",
    "\n",
    "for word in Hey_Jude:\n",
    "    my_dict[word] = Hey_Jude.count(word)\n",
    "\n",
    "max_times = max(my_dict.values())\n",
    "most_list = [word for word,times in my_dict.items() if times == max_times]\n",
    "\n",
    "print(most_list ,\",\", max_times)"
   ]
  },
  {
   "cell_type": "code",
   "execution_count": 43,
   "id": "5871465d",
   "metadata": {},
   "outputs": [],
   "source": [
    "# SET (immutable) every element is unique\n",
    "\n",
    "empty_list = []\n",
    "empty_dict = {}\n",
    "empty_tuple = ()\n",
    "empty_set = set()"
   ]
  },
  {
   "cell_type": "code",
   "execution_count": 38,
   "id": "18b16edb",
   "metadata": {},
   "outputs": [
    {
     "name": "stdout",
     "output_type": "stream",
     "text": [
      "{1, 2, 3, 4}\n",
      "<class 'set'>\n",
      "{1.0, (1, 2, 3), 'hello'}\n",
      "{1, 2, 3, 4, 5}\n"
     ]
    }
   ],
   "source": [
    "my_set = {1,2,3,4}\n",
    "print(my_set)\n",
    "print(type(my_set))\n",
    "\n",
    "my_set = {1.0, \"hello\", (1,2,3)}\n",
    "print(my_set)\n",
    "\n",
    "my_set = {1,2,2,2,3,4,5,5,5,5}\n",
    "print(my_set)"
   ]
  },
  {
   "cell_type": "code",
   "execution_count": 66,
   "id": "20d19205",
   "metadata": {},
   "outputs": [
    {
     "name": "stdout",
     "output_type": "stream",
     "text": [
      "{'pink', 'orange', 'red'}\n",
      "{'pink', 'orange', 'blue', 'red'}\n",
      "{'pink', 'orange', 'red'}\n",
      "['orange', 'pink', 'red']\n",
      "{'orange', 'red'}\n",
      "set()\n",
      "\n",
      "['h', 'n', 'n', 'n', 'n', 'o', 'o', 'o', 'o', 'p', 't', 't', 't', 't', 'y', 'y', 'y', 'y']\n",
      "['h', 'n', 'o', 'p', 't', 'y']\n",
      "\n",
      "False\n",
      "False\n",
      "True\n"
     ]
    }
   ],
   "source": [
    "color = {\"orange\",\"red\",\"red\", \"pink\",\"orange\"}\n",
    "\n",
    "print(color)\n",
    "color.add(\"blue\")\n",
    "print(color)\n",
    "color.remove(\"blue\")\n",
    "print(color)\n",
    "print(sorted(set(color)))\n",
    "color.pop()\n",
    "print(color)\n",
    "color.clear() # clears all the elements in the set\n",
    "print(color)\n",
    "print()\n",
    "\n",
    "print(sorted(\"pyyyytttthoooonnnn\"))\n",
    "print(sorted(set(\"pyyyytttthoooonnnn\"))) # duplicates not allowed in set\n",
    "print()\n",
    "\n",
    "print(\"red\" in color)\n",
    "print(\"purple\" in color)\n",
    "print(\"purple\" not in color)"
   ]
  },
  {
   "cell_type": "code",
   "execution_count": 52,
   "id": "25034cd5",
   "metadata": {},
   "outputs": [
    {
     "name": "stdout",
     "output_type": "stream",
     "text": [
      "PINK\n",
      "ORANGE\n",
      "RED\n"
     ]
    }
   ],
   "source": [
    "color = {\"orange\",\"red\",\"red\", \"pink\",\"orange\"}\n",
    "\n",
    "for item in color:\n",
    "    print(item.upper())"
   ]
  },
  {
   "cell_type": "code",
   "execution_count": 57,
   "id": "07cf6b5a",
   "metadata": {},
   "outputs": [
    {
     "name": "stdout",
     "output_type": "stream",
     "text": [
      "[0, 1, 2, 3, 4, 5, 6, 7, 8, 9, 0, 1, 2, 3, 4]\n",
      "<class 'list'>\n",
      "{0, 1, 2, 3, 4, 5, 6, 7, 8, 9}\n"
     ]
    }
   ],
   "source": [
    "numbers = list(range(10)) + list(range(5))\n",
    "print(numbers)\n",
    "print(type(numbers))\n",
    "print(set(numbers))"
   ]
  },
  {
   "cell_type": "code",
   "execution_count": 72,
   "id": "d768cc00",
   "metadata": {},
   "outputs": [
    {
     "name": "stdout",
     "output_type": "stream",
     "text": [
      "[3, 6, 3, 2, 1, 6, 4, 5, 5, 1, 2, 5, 2, 5, 6, 5, 1, 4, 3, 2, 2, 5, 3, 2, 5, 4, 2, 1, 5, 4, 4, 4, 3, 1, 5, 5, 3, 3, 4, 6, 5, 6, 4, 3, 2, 2, 2, 2, 3, 4]\n",
      "\n",
      "{1, 2, 3, 4, 5, 6}\n"
     ]
    }
   ],
   "source": [
    "# list version\n",
    "import random\n",
    "\n",
    "my_list = [random.randrange(1,7) for i in range(50)]\n",
    "\n",
    "print(my_list)\n",
    "print()\n",
    "\n",
    "# set version\n",
    "my_set = set([random.randrange(1,7) for i in range(50)])\n",
    "\n",
    "print(my_set)"
   ]
  },
  {
   "cell_type": "code",
   "execution_count": 82,
   "id": "6d0158ae",
   "metadata": {},
   "outputs": [
    {
     "name": "stdout",
     "output_type": "stream",
     "text": [
      "['to', 'be', 'or', 'not', 'to', 'be', 'that', 'is', 'the', 'question']\n",
      "\n",
      "{'the', 'or', 'question', 'not', 'be', 'is', 'that', 'to'}\n",
      "['be', 'is', 'not', 'or', 'question', 'that', 'the', 'to']\n"
     ]
    }
   ],
   "source": [
    "text = \"to be or not to be that is the question\"\n",
    "print(text.split())\n",
    "print()\n",
    "\n",
    "unique_words = set(text.split())\n",
    "print(unique_words)\n",
    "print(sorted(unique_words))"
   ]
  },
  {
   "cell_type": "code",
   "execution_count": 86,
   "id": "91351b69",
   "metadata": {},
   "outputs": [
    {
     "name": "stdout",
     "output_type": "stream",
     "text": [
      "{1, 2, 3, 4, 5, 6, 7, 8, 9, 10}\n",
      "{1, 2, 3, 4, 5, 6, 7, 8, 9, 10}\n",
      "{1, 2, 3, 4, 5, 6, 7, 8, 9, 10}\n"
     ]
    }
   ],
   "source": [
    "# union in set\n",
    "\n",
    "A = {1,2,3,4,5,6}\n",
    "B = {4,5,6,7,8,9,10}\n",
    "\n",
    "print(A|B)\n",
    "print(A.union(B))\n",
    "print(B.union(A))"
   ]
  },
  {
   "cell_type": "code",
   "execution_count": 89,
   "id": "18331703",
   "metadata": {},
   "outputs": [
    {
     "name": "stdout",
     "output_type": "stream",
     "text": [
      "{4, 5, 6}\n",
      "{4, 5, 6}\n",
      "{4, 5, 6}\n"
     ]
    }
   ],
   "source": [
    "# intersection of sets\n",
    "\n",
    "A = {1,2,3,4,5,6}\n",
    "B = {4,5,6,7,8,9,10}\n",
    "\n",
    "print(A&B)\n",
    "print(A.intersection(B))\n",
    "print(B.intersection(A))"
   ]
  },
  {
   "cell_type": "code",
   "execution_count": 93,
   "id": "65aef619",
   "metadata": {},
   "outputs": [
    {
     "name": "stdout",
     "output_type": "stream",
     "text": [
      "{1, 2, 3}\n",
      "{1, 2, 3}\n",
      "{8, 9, 10, 7}\n",
      "{8, 9, 10, 7}\n"
     ]
    }
   ],
   "source": [
    "# difference of two sets\n",
    "\n",
    "A = {1,2,3,4,5,6}\n",
    "B = {4,5,6,7,8,9,10}\n",
    "\n",
    "print(A-B)\n",
    "print(A.difference(B))\n",
    "print(B-A)\n",
    "print(B.difference(A))"
   ]
  },
  {
   "cell_type": "code",
   "execution_count": 96,
   "id": "f68888de",
   "metadata": {},
   "outputs": [
    {
     "name": "stdout",
     "output_type": "stream",
     "text": [
      "o e w h d r l "
     ]
    }
   ],
   "source": [
    "for letter in set(\"helloworld\"):\n",
    "    print(letter, end= \" \")"
   ]
  },
  {
   "cell_type": "code",
   "execution_count": null,
   "id": "d83bf553",
   "metadata": {},
   "outputs": [],
   "source": []
  }
 ],
 "metadata": {
  "kernelspec": {
   "display_name": "Python 3",
   "language": "python",
   "name": "python3"
  },
  "language_info": {
   "codemirror_mode": {
    "name": "ipython",
    "version": 3
   },
   "file_extension": ".py",
   "mimetype": "text/x-python",
   "name": "python",
   "nbconvert_exporter": "python",
   "pygments_lexer": "ipython3",
   "version": "3.9.5"
  }
 },
 "nbformat": 4,
 "nbformat_minor": 5
}
