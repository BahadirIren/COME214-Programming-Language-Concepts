{
 "cells": [
  {
   "cell_type": "code",
   "execution_count": 3,
   "id": "f1df2940",
   "metadata": {},
   "outputs": [
    {
     "name": "stdout",
     "output_type": "stream",
     "text": [
      "20\n"
     ]
    }
   ],
   "source": [
    "# ternary operator\n",
    "\n",
    "a = 30\n",
    "b = 20\n",
    "\n",
    "min_value = a if a < b else b\n",
    "print(min_value)"
   ]
  },
  {
   "cell_type": "code",
   "execution_count": 4,
   "id": "139f07b9",
   "metadata": {},
   "outputs": [
    {
     "name": "stdout",
     "output_type": "stream",
     "text": [
      "10\n"
     ]
    }
   ],
   "source": [
    "a,b = 10,20\n",
    "\n",
    "min_value = a if a < b else b\n",
    "print(min_value)"
   ]
  },
  {
   "cell_type": "code",
   "execution_count": 16,
   "id": "c91c9c50",
   "metadata": {},
   "outputs": [
    {
     "name": "stdout",
     "output_type": "stream",
     "text": [
      "4\n",
      "1\n",
      "{'January': 1, 'February': 2, 'March': 3, 'April': 4}\n",
      "\n",
      "dict_items([('January', 1), ('February', 2), ('March', 3), ('April', 4)])\n",
      "[('January', 1), ('February', 2), ('March', 3), ('April', 4)]\n",
      "['January', 'February', 'March', 'April']\n",
      "[1, 2, 3, 4]\n"
     ]
    }
   ],
   "source": [
    "months = {\"January\": 1, \"February\":2, \"March\": 3, \"April\":4}\n",
    "\n",
    "print(len(months))\n",
    "print(months[\"January\"])\n",
    "print(months)\n",
    "print()\n",
    "\n",
    "print(months.items())\n",
    "print(list(months.items()))\n",
    "print(list(months.keys()))\n",
    "print(list(months.values()))\n"
   ]
  },
  {
   "cell_type": "code",
   "execution_count": 17,
   "id": "85dffd30",
   "metadata": {},
   "outputs": [
    {
     "name": "stdout",
     "output_type": "stream",
     "text": [
      "April February January March "
     ]
    }
   ],
   "source": [
    "months = {\"January\": 1, \"February\": 2, \"March\": 3, \"April\": 4}\n",
    "\n",
    "for month_name in sorted(months.keys()):\n",
    "    print(month_name, end=\" \")"
   ]
  },
  {
   "cell_type": "code",
   "execution_count": 23,
   "id": "006961ef",
   "metadata": {},
   "outputs": [
    {
     "name": "stdout",
     "output_type": "stream",
     "text": [
      "Enter your search key: April\n",
      "The value of the search key is 4\n"
     ]
    }
   ],
   "source": [
    "months = {\"January\": 1, \"February\": 2, \"March\": 3, \"April\": 4}\n",
    "\n",
    "search_key = input(\"Enter your search key: \")\n",
    "\n",
    "if search_key in months:\n",
    "    print(\"The value of the search key is\", months[search_key])\n",
    "else:\n",
    "    print(\"The search key is not in your dictionary\")"
   ]
  },
  {
   "cell_type": "code",
   "execution_count": 25,
   "id": "dc5c6895",
   "metadata": {},
   "outputs": [
    {
     "name": "stdout",
     "output_type": "stream",
     "text": [
      "The sum of all values of my dictionary is: 600\n"
     ]
    }
   ],
   "source": [
    "# get the summation of all values from declared dictionary\n",
    "\n",
    "def sum_of_values_dict(my_dict):\n",
    "    my_sum = 0\n",
    "    for item in my_dict.values():\n",
    "        my_sum += item\n",
    "        \n",
    "    return my_sum\n",
    "\n",
    "my_dictionary = {'A': 100, 'B': 200, 'C': 300}\n",
    "\n",
    "print(\"The sum of all values of my dictionary is:\", sum_of_values_dict(my_dictionary))"
   ]
  },
  {
   "cell_type": "code",
   "execution_count": null,
   "id": "a16b7710",
   "metadata": {},
   "outputs": [],
   "source": []
  }
 ],
 "metadata": {
  "kernelspec": {
   "display_name": "Python 3",
   "language": "python",
   "name": "python3"
  },
  "language_info": {
   "codemirror_mode": {
    "name": "ipython",
    "version": 3
   },
   "file_extension": ".py",
   "mimetype": "text/x-python",
   "name": "python",
   "nbconvert_exporter": "python",
   "pygments_lexer": "ipython3",
   "version": "3.9.5"
  }
 },
 "nbformat": 4,
 "nbformat_minor": 5
}
