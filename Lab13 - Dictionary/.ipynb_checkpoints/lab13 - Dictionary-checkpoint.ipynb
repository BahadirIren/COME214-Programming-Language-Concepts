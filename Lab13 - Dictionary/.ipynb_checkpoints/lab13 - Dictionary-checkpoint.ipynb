{
 "cells": [
  {
   "cell_type": "code",
   "execution_count": 12,
   "id": "af60c984",
   "metadata": {},
   "outputs": [
    {
     "name": "stdout",
     "output_type": "stream",
     "text": [
      "What is the capital of France? paris\n",
      "Correct\n",
      "\n",
      "Which character is the most popular character of Walt Disney? mickey mouse\n",
      "Correct\n",
      "\n",
      "Total correct is: 2\n"
     ]
    }
   ],
   "source": [
    "# simple quiz game\n",
    "\n",
    "counter = 0\n",
    "questions = [\"What is the capital of France? \",\"Which character is the most popular character of Walt Disney? \"]\n",
    "answers = [\"paris\",\"mickey mouse\"]\n",
    "\n",
    "for ques in questions:\n",
    "    user_input = input(ques)\n",
    "    user_input = user_input.lower()\n",
    "    if user_input in answers:\n",
    "        counter += 1\n",
    "        print(\"Correct\\n\")\n",
    "    else:\n",
    "        print(\"Wrong\\n\")\n",
    "        \n",
    "print(f\"Total correct is: {counter}\")"
   ]
  },
  {
   "cell_type": "code",
   "execution_count": 1,
   "id": "fc42dc7c",
   "metadata": {},
   "outputs": [
    {
     "name": "stdout",
     "output_type": "stream",
     "text": [
      "Original matrix:\n",
      "25 24 14 21 \n",
      "29 28 14 16 \n",
      "18 10 27 12 \n",
      "\n",
      "Transpose of matrix:\n",
      "25 29 18 \n",
      "24 28 10 \n",
      "14 14 27 \n",
      "21 16 12 \n"
     ]
    }
   ],
   "source": [
    "# transpose of matrix\n",
    "\n",
    "import random\n",
    "\n",
    "def print_matrix(nums):\n",
    "    for row in nums:\n",
    "        for item in row:\n",
    "            print(item, end=\" \")\n",
    "        print()\n",
    "\n",
    "row = 4\n",
    "column = 3 \n",
    "nums = [[random.randrange(10,30) for x in range(row)] for y in range(column)]\n",
    "\n",
    "print(\"Original matrix:\")\n",
    "print_matrix(nums)\n",
    "    \n",
    "# len(nums[0]) stands for num of elements in first row\n",
    "# len(nums[:]) stands for total num of row means how many elements in one column\n",
    "new_nums = [[nums[row][column] for row in range(len(nums[:]))] for column in range(len(nums[0]))]\n",
    "\n",
    "print(\"\\nTranspose of matrix:\")\n",
    "print_matrix(new_nums)"
   ]
  },
  {
   "cell_type": "code",
   "execution_count": 63,
   "id": "6c71f0b4",
   "metadata": {},
   "outputs": [
    {
     "name": "stdout",
     "output_type": "stream",
     "text": [
      "52 33 65 46 \n",
      "36 27 84 17 \n",
      "13 25 88 42 \n",
      "---------------------\n",
      "sum of 1 rows 196\n",
      "sum of 2 rows 164\n",
      "sum of 3 rows 168\n",
      "---------------------\n",
      "sum of 1 columns 101\n",
      "sum of 2 columns 85\n",
      "sum of 3 columns 237\n",
      "sum of 4 columns 105\n"
     ]
    }
   ],
   "source": [
    "# sum of rows and columns of matrix\n",
    "# total num of row means how many elements in one column\n",
    "# total num of column means how many elements in one row\n",
    "# nums[row][column]\n",
    "\n",
    "nums = [[52,33,65,46],[36,27,84,17],[13,25,88,42]]\n",
    "\n",
    "# prints the whole matrix\n",
    "for row in nums:\n",
    "    for item in row:\n",
    "        print(item,end=\" \")\n",
    "    print()\n",
    "\n",
    "print(\"---------------------\")\n",
    "for i,row in enumerate(nums):\n",
    "    sumRow = 0\n",
    "    for j,item in enumerate(row):\n",
    "        sumRow += nums[i][j]\n",
    "    print(\"sum of \" + str(i + 1) + \" rows \" + str(sumRow)) \n",
    "    \n",
    "print(\"---------------------\")\n",
    "for column in range(len(nums[0])): \n",
    "    # len(nums[0]) stands for num of elements in first row\n",
    "    sumColumn = 0\n",
    "    for row in range(len(nums[:])): \n",
    "        # len(nums[:]) stands for total num of row means how many elements in one column\n",
    "        sumColumn += nums[row][column]\n",
    "    print(\"sum of \" + str(column + 1) + \" columns \" + str(sumColumn))"
   ]
  },
  {
   "cell_type": "code",
   "execution_count": 89,
   "id": "fe12e692",
   "metadata": {},
   "outputs": [
    {
     "name": "stdout",
     "output_type": "stream",
     "text": [
      "apple\n",
      "{1: 'apple', 2: 'banana'}\n",
      "{1: 'watermelon', 2: 'banana'}\n",
      "{1: 'watermelon', 2: 'banana', 3: 'orange'}\n",
      "{1: 'watermelon', 3: 'orange'}\n"
     ]
    }
   ],
   "source": [
    "# dictionary\n",
    "\n",
    "dic = {1: \"apple\" , 2: \"banana\"} # mutable\n",
    "\n",
    "print(dic[1])\n",
    "print(dic)\n",
    "\n",
    "dic[1] = \"watermelon\"\n",
    "print(dic)\n",
    "\n",
    "dic[3] = \"orange\"\n",
    "print(dic)\n",
    "\n",
    "del dic[2]\n",
    "print(dic)"
   ]
  },
  {
   "cell_type": "code",
   "execution_count": 91,
   "id": "9cf7593e",
   "metadata": {},
   "outputs": [
    {
     "name": "stdout",
     "output_type": "stream",
     "text": [
      "Enter a word: cat\n",
      "The definition is: says meow\n"
     ]
    }
   ],
   "source": [
    "d = {\"dog\": \"has a tail and goes woof!\", \"cat\": \"says meow\", \"mouse\": \"chased by cat\"}\n",
    "\n",
    "word = input(\"Enter a word: \")\n",
    "\n",
    "print(\"The definition is:\", d[word])"
   ]
  },
  {
   "cell_type": "code",
   "execution_count": 2,
   "id": "31e931df",
   "metadata": {},
   "outputs": [
    {
     "name": "stdout",
     "output_type": "stream",
     "text": [
      "Enter your word: baggle\n",
      "10\n"
     ]
    }
   ],
   "source": [
    "\n",
    "points = {'A':1, 'B':3, 'C':3, 'D':2, 'E':1, 'F':4, 'G':2, 'H':4,'I':1, 'J':8, 'K':5, 'L':1, 'M':3, 'N':1, 'O':1, 'P':3,'Q':10, 'R':1, 'S':1, 'T':1, 'U':1, 'V':4, 'W':4, 'X':8,'Y':4, 'Z':10}\n",
    "\n",
    "word = input(\"Enter your word: \")\n",
    "word = word.upper()\n",
    "\n",
    "score = sum([points[char] for char in word])\n",
    "print(score)"
   ]
  },
  {
   "cell_type": "code",
   "execution_count": 5,
   "id": "494d3548",
   "metadata": {},
   "outputs": [
    {
     "name": "stdout",
     "output_type": "stream",
     "text": [
      "{1: 10, 2: 20, 3: 30, 4: 40, 5: 50, 6: 60}\n",
      "6\n"
     ]
    }
   ],
   "source": [
    "# concetnate dictionaries\n",
    "dic1 = {1:10,2:20}\n",
    "dic2 = {3:30,4:40}\n",
    "dic3 = {5:50,6:60}\n",
    "dic4 = {}\n",
    "\n",
    "for d in (dic1,dic2,dic3):\n",
    "    dic4.update(d)\n",
    "    \n",
    "print(dic4)\n",
    "print(len(dic4))"
   ]
  },
  {
   "cell_type": "code",
   "execution_count": 4,
   "id": "5f3f8c82",
   "metadata": {},
   "outputs": [
    {
     "name": "stdout",
     "output_type": "stream",
     "text": [
      "no orange\n"
     ]
    }
   ],
   "source": [
    "fruits = {\"apple\": 1, \"banana\" : 2}\n",
    "\n",
    "if \"orange\" in fruits:\n",
    "    print(\"has orange\")\n",
    "else:\n",
    "    print(\"no orange\")"
   ]
  },
  {
   "cell_type": "code",
   "execution_count": 18,
   "id": "1df874d1",
   "metadata": {},
   "outputs": [
    {
     "name": "stdout",
     "output_type": "stream",
     "text": [
      "{0: 0, 1: 1, 2: 4, 3: 9, 4: 16, 5: 25}\n"
     ]
    }
   ],
   "source": [
    "# Dictionary Comprehension\n",
    "\n",
    "squares = {x: x*x for x in range(6)}\n",
    "\n",
    "print(squares)"
   ]
  },
  {
   "cell_type": "code",
   "execution_count": 13,
   "id": "256e7cbc",
   "metadata": {},
   "outputs": [
    {
     "name": "stdout",
     "output_type": "stream",
     "text": [
      "{1: 1, 3: 9, 5: 25, 7: 49, 9: 81}\n",
      "True\n",
      "True\n",
      "False\n"
     ]
    }
   ],
   "source": [
    "odd_squares = {x: x*x for x in range(11) if x % 2 == 1}\n",
    "\n",
    "print(odd_squares)\n",
    "print(1 in odd_squares)\n",
    "print(2 not in odd_squares)\n",
    "print(49 in odd_squares) # only key not value"
   ]
  },
  {
   "cell_type": "code",
   "execution_count": 17,
   "id": "fe45a880",
   "metadata": {},
   "outputs": [
    {
     "name": "stdout",
     "output_type": "stream",
     "text": [
      "1 9 25 49 81 "
     ]
    }
   ],
   "source": [
    "odd_squares = {1: 1, 3: 9, 5: 25, 7: 49, 9: 81}\n",
    "\n",
    "for i in odd_squares:\n",
    "    print(odd_squares[i],end = \" \")"
   ]
  },
  {
   "cell_type": "code",
   "execution_count": null,
   "id": "3c5e6d5b",
   "metadata": {},
   "outputs": [],
   "source": []
  }
 ],
 "metadata": {
  "kernelspec": {
   "display_name": "Python 3",
   "language": "python",
   "name": "python3"
  },
  "language_info": {
   "codemirror_mode": {
    "name": "ipython",
    "version": 3
   },
   "file_extension": ".py",
   "mimetype": "text/x-python",
   "name": "python",
   "nbconvert_exporter": "python",
   "pygments_lexer": "ipython3",
   "version": "3.9.5"
  }
 },
 "nbformat": 4,
 "nbformat_minor": 5
}
