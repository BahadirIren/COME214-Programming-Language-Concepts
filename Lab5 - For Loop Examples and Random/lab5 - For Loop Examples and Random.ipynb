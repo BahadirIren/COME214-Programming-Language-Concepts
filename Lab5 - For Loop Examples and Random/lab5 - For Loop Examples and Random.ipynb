{
 "cells": [
  {
   "cell_type": "code",
   "execution_count": 21,
   "metadata": {},
   "outputs": [
    {
     "name": "stdout",
     "output_type": "stream",
     "text": [
      "1 , 1\n",
      "1 , 2\n",
      "2 , 1\n",
      "2 , 2\n",
      "3 , 1\n",
      "3 , 2\n"
     ]
    }
   ],
   "source": [
    "for i in range(1,4):\n",
    "    for j in range(1,3):\n",
    "        print(i,\",\",j)"
   ]
  },
  {
   "cell_type": "code",
   "execution_count": 15,
   "metadata": {},
   "outputs": [
    {
     "name": "stdout",
     "output_type": "stream",
     "text": [
      "f( 1 , 1 ) = 1.00\n",
      "f( 1 , 2 ) = 0.50\n",
      "f( 1 , 3 ) = 0.33\n",
      "f( 1 , 4 ) = 0.25\n",
      "f( 1 , 5 ) = 0.20\n",
      "f( 2 , 1 ) = 0.33\n",
      "f( 2 , 2 ) = 0.20\n",
      "f( 2 , 3 ) = 0.15\n",
      "f( 2 , 4 ) = 0.12\n",
      "f( 2 , 5 ) = 0.11\n",
      "f( 3 , 1 ) = 0.14\n",
      "f( 3 , 2 ) = 0.09\n",
      "f( 3 , 3 ) = 0.07\n",
      "f( 3 , 4 ) = 0.06\n",
      "f( 3 , 5 ) = 0.05\n",
      "f( 4 , 1 ) = 0.08\n",
      "f( 4 , 2 ) = 0.05\n",
      "f( 4 , 3 ) = 0.03\n",
      "f( 4 , 4 ) = 0.03\n",
      "f( 4 , 5 ) = 0.03\n",
      "f( 5 , 1 ) = 0.05\n",
      "f( 5 , 2 ) = 0.03\n",
      "f( 5 , 3 ) = 0.02\n",
      "f( 5 , 4 ) = 0.02\n",
      "f( 5 , 5 ) = 0.02\n"
     ]
    }
   ],
   "source": [
    "for x in range(1,6):\n",
    "    for y in range(1,6):\n",
    "        result = (x+y)/(pow(x,3)*y + pow(y,2))\n",
    "        print(\"f(\",x,\",\",y,\") =\",format(result,\".2f\"))"
   ]
  },
  {
   "cell_type": "code",
   "execution_count": 30,
   "metadata": {
    "scrolled": true
   },
   "outputs": [
    {
     "name": "stdout",
     "output_type": "stream",
     "text": [
      "f( 1 , 1 ) = 1.00 \tf( 1 , 2 ) = 0.50 \tf( 1 , 3 ) = 0.33 \tf( 1 , 4 ) = 0.25 \tf( 1 , 5 ) = 0.20 \tf( 2 , 1 ) = 0.33 \tf( 2 , 2 ) = 0.20 \tf( 2 , 3 ) = 0.15 \tf( 2 , 4 ) = 0.12 \tf( 2 , 5 ) = 0.11 \tf( 3 , 1 ) = 0.14 \tf( 3 , 2 ) = 0.09 \tf( 3 , 3 ) = 0.07 \tf( 3 , 4 ) = 0.06 \tf( 3 , 5 ) = 0.05 \tf( 4 , 1 ) = 0.08 \tf( 4 , 2 ) = 0.05 \tf( 4 , 3 ) = 0.03 \tf( 4 , 4 ) = 0.03 \tf( 4 , 5 ) = 0.03 \tf( 5 , 1 ) = 0.05 \tf( 5 , 2 ) = 0.03 \tf( 5 , 3 ) = 0.02 \tf( 5 , 4 ) = 0.02 \tf( 5 , 5 ) = 0.02 \t"
     ]
    }
   ],
   "source": [
    "for x in range(1,6):\n",
    "    for y in range(1,6):\n",
    "        result = (x+y)/(pow(x,3)*y + pow(y,2))\n",
    "        print(\"f(\",x,\",\",y,\") =\",format(result,\".2f\"),\"\\t\",end= \"\")"
   ]
  },
  {
   "cell_type": "code",
   "execution_count": 62,
   "metadata": {},
   "outputs": [
    {
     "name": "stdout",
     "output_type": "stream",
     "text": [
      "Enter a number: 4\n",
      "\t 1 \t \t 2 \t \t 3 \t \t 4 \t \n",
      "--------------- --------------- --------------- --------------- \n",
      "1 | \t 1 \t \t 2 \t \t 3 \t \t 4 \t \n",
      "2 | \t 2 \t \t 4 \t \t 6 \t \t 8 \t \n",
      "3 | \t 3 \t \t 6 \t \t 9 \t \t 12 \t \n",
      "4 | \t 4 \t \t 8 \t \t 12 \t \t 16 \t \n"
     ]
    }
   ],
   "source": [
    "# multiplication table\n",
    "n = int(input(\"Enter a number: \"))\n",
    "\n",
    "for i in range(1,n+1):\n",
    "    print(\"\\t\",i,\"\\t\",end=\" \")\n",
    "print()\n",
    "for i in range(1,n+1):\n",
    "    print(\"---------------\",end=\" \")\n",
    "print()\n",
    "for i in range(1,n+1):\n",
    "    print(i,\"|\",end=\" \")\n",
    "    for j in range(1,n+1):\n",
    "        print(\"\\t\",i*j,\"\\t\",end=\" \")\n",
    "    print()\n",
    "        "
   ]
  },
  {
   "cell_type": "code",
   "execution_count": 85,
   "metadata": {},
   "outputs": [
    {
     "name": "stdout",
     "output_type": "stream",
     "text": [
      "Enter a number: 5\n",
      "\n",
      "2 + 2 + 22 + 222 + 2222 + 22222\n",
      "Sum of the series is= 24690\n"
     ]
    }
   ],
   "source": [
    "# sum of the series\n",
    "n = int(input(\"Enter a number: \"))\n",
    "\n",
    "start = \"2\"\n",
    "sum = 0\n",
    "series= start\n",
    "for i in range(1,n+1):\n",
    "    sum += int(start*i)\n",
    "    series += (\" + \" + str(start*i))\n",
    "print()\n",
    "print(series)\n",
    "print(\"Sum of the series is=\",sum)"
   ]
  },
  {
   "cell_type": "code",
   "execution_count": 88,
   "metadata": {},
   "outputs": [
    {
     "name": "stdout",
     "output_type": "stream",
     "text": [
      "2 + 22 + 222 + 2222 + 22222 \n",
      "The sum of the above series is= 24690\n"
     ]
    }
   ],
   "source": [
    "# sum of the series\n",
    "number_of_terms = 5\n",
    "start = 2\n",
    "sum = 0\n",
    "\n",
    "for i in range(1,number_of_terms +1):\n",
    "    print(start,end=\" \")\n",
    "    if i != number_of_terms:\n",
    "        print(\"+\",end=\" \")\n",
    "    sum += start\n",
    "    start = start*10 +2\n",
    "    \n",
    "print()\n",
    "print(\"The sum of the above series is=\", sum)"
   ]
  },
  {
   "cell_type": "code",
   "execution_count": 103,
   "metadata": {},
   "outputs": [
    {
     "name": "stdout",
     "output_type": "stream",
     "text": [
      "After 1 year \t 10500.00 $\n",
      "After 2 year \t 11025.00 $\n",
      "After 3 year \t 11576.25 $\n",
      "After 4 year \t 12155.06 $\n",
      "After 5 year \t 12762.82 $\n",
      "After 6 year \t 13400.96 $\n",
      "After 7 year \t 14071.00 $\n",
      "After 8 year \t 14774.55 $\n",
      "After 9 year \t 15513.28 $\n",
      "After 10 year \t 16288.95 $\n"
     ]
    }
   ],
   "source": [
    "# finding interests\n",
    "import math\n",
    "invested = 10000\n",
    "rate = 0.05\n",
    "total_years = 10\n",
    "\n",
    "for year in range(1,total_years +1):\n",
    "    deposit = invested*pow(1+rate,year)\n",
    "    print(\"After\",year,\"year\", \"\\t\",format(deposit,\".2f\"),\"$\")"
   ]
  },
  {
   "cell_type": "code",
   "execution_count": 107,
   "metadata": {},
   "outputs": [
    {
     "name": "stdout",
     "output_type": "stream",
     "text": [
      "2\n"
     ]
    }
   ],
   "source": [
    "# random number\n",
    "import random\n",
    "\n",
    "print(random.randrange(1,7))"
   ]
  },
  {
   "cell_type": "code",
   "execution_count": 113,
   "metadata": {},
   "outputs": [
    {
     "name": "stdout",
     "output_type": "stream",
     "text": [
      "hello\n",
      "hello\n",
      "hello\n",
      "hello\n",
      "hello\n",
      "hello\n",
      "hello\n",
      "hello\n"
     ]
    }
   ],
   "source": [
    "from random import randint\n",
    "\n",
    "rand_number = randint(5,15)\n",
    "for i in range(rand_number):\n",
    "    print(\"hello\")"
   ]
  },
  {
   "cell_type": "code",
   "execution_count": 8,
   "metadata": {},
   "outputs": [
    {
     "name": "stdout",
     "output_type": "stream",
     "text": [
      "Frequency of face 1: 999384 and Probability: 0.1666\n",
      "Frequency of face 2: 1000679 and Probability: 0.1668\n",
      "Frequency of face 3: 998850 and Probability: 0.1665\n",
      "Frequency of face 4: 999861 and Probability: 0.1666\n",
      "Frequency of face 5: 1001451 and Probability: 0.1669\n",
      "Frequency of face 6: 999775 and Probability: 0.1666\n"
     ]
    }
   ],
   "source": [
    "# dice example\n",
    "'''\n",
    "Roll a six-sided die 6,000,000 times.\n",
    "Each dies face 1-6 occur with equal likehood, the following script simulates 6,000,000 die (6 million)\n",
    "Die rolls. When you run the script,each die face should occur approximately 1,000,000 times , as in the sample output. \n",
    " \n",
    "Print Frequency of face \n",
    "Print Probability of face \n",
    "\n",
    "It finished about 12-13 seconds\n",
    "'''\n",
    "from random import randint\n",
    "\n",
    "times = 6000000\n",
    "\n",
    "# define frequency and initialize to 0\n",
    "for i in range(1,7):\n",
    "    globals()[\"frequency{}\".format(i)] = 0\n",
    "\n",
    "# count frequency\n",
    "for i in range(1, times +1):\n",
    "    rand_number = randint(1,6)\n",
    "    for face in range(1,7):\n",
    "        if face == rand_number:\n",
    "            globals()[\"frequency{}\".format(face)] += 1\n",
    "            \n",
    "# print frequency and probability\n",
    "for i in range(1,7):\n",
    "    print(\"Frequency of face {}:\".format(i),globals()[\"frequency{}\".format(i)],\"and Probability:\",format(globals()[\"frequency{}\".format(i)]/times,\".4f\" ))\n",
    "        "
   ]
  },
  {
   "cell_type": "code",
   "execution_count": 9,
   "metadata": {},
   "outputs": [
    {
     "name": "stdout",
     "output_type": "stream",
     "text": [
      "Frequency of face 1: 999961 and Probability: 0.1667\n",
      "Frequency of face 2: 1000951 and Probability: 0.1668\n",
      "Frequency of face 3: 999373 and Probability: 0.1666\n",
      "Frequency of face 4: 1000198 and Probability: 0.1667\n",
      "Frequency of face 5: 1000169 and Probability: 0.1667\n",
      "Frequency of face 6: 999348 and Probability: 0.1666\n"
     ]
    }
   ],
   "source": [
    "# dice example\n",
    "'''\n",
    "Roll a six-sided die 6,000,000 times.\n",
    "Each dies face 1-6 occur with equal likehood, the following script simulates 6,000,000 die (6 million)\n",
    "Die rolls. When you run the script,each die face should occur approximately 1,000,000 times , as in the sample output. \n",
    " \n",
    "Print Frequency of face \n",
    "Print Probability of face \n",
    "\n",
    "It finished about 5-6 seconds\n",
    "'''\n",
    "import random\n",
    "\n",
    "times = 6000000\n",
    "\n",
    "# define frequency and initialize to 0\n",
    "frequency1 = 0\n",
    "frequency2 = 0\n",
    "frequency3 = 0\n",
    "frequency4 = 0\n",
    "frequency5 = 0\n",
    "frequency6 = 0\n",
    "\n",
    "# count frequency\n",
    "for i in range(1, times+1):\n",
    "    rand_number = random.randrange(1,7)\n",
    "    if rand_number == 1:\n",
    "        frequency1 += 1\n",
    "    elif rand_number == 2:\n",
    "        frequency2 += 1\n",
    "    elif rand_number == 3:\n",
    "        frequency3 += 1\n",
    "    elif rand_number == 4:\n",
    "        frequency4 += 1\n",
    "    elif rand_number == 5:\n",
    "        frequency5 += 1\n",
    "    elif rand_number == 6:\n",
    "        frequency6 += 1\n",
    "\n",
    "# print frequency and probability\n",
    "for i in range(1,7):\n",
    "    print(\"Frequency of face {}:\".format(i),globals()[\"frequency{}\".format(i)],\"and Probability:\",format(globals()[\"frequency{}\".format(i)]/times,\".4f\" ))\n"
   ]
  },
  {
   "cell_type": "code",
   "execution_count": null,
   "metadata": {},
   "outputs": [],
   "source": []
  }
 ],
 "metadata": {
  "kernelspec": {
   "display_name": "Python 3",
   "language": "python",
   "name": "python3"
  },
  "language_info": {
   "codemirror_mode": {
    "name": "ipython",
    "version": 3
   },
   "file_extension": ".py",
   "mimetype": "text/x-python",
   "name": "python",
   "nbconvert_exporter": "python",
   "pygments_lexer": "ipython3",
   "version": "3.9.5"
  }
 },
 "nbformat": 4,
 "nbformat_minor": 4
}
