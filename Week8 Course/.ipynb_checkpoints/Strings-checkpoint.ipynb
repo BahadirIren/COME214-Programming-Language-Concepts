{
 "cells": [
  {
   "cell_type": "code",
   "execution_count": 2,
   "metadata": {},
   "outputs": [
    {
     "name": "stdout",
     "output_type": "stream",
     "text": [
      "Hello\n",
      "hello\n",
      "This is a long string this is\n",
      "spread across two lines...\n",
      "<class 'str'>\n"
     ]
    }
   ],
   "source": [
    "s = \"Hello\"\n",
    "t = 'hello'\n",
    "m = \"\"\"This is a long string this is\n",
    "spread across two lines...\"\"\"\n",
    "\n",
    "print(s)\n",
    "print(t)\n",
    "print(m)\n",
    "print(type(m))"
   ]
  },
  {
   "cell_type": "code",
   "execution_count": 4,
   "metadata": {},
   "outputs": [
    {
     "name": "stdout",
     "output_type": "stream",
     "text": [
      "Enter a string: bahadir\n",
      "bahadir\n",
      "<class 'str'>\n"
     ]
    }
   ],
   "source": [
    "my_string =input(\"Enter a string: \")\n",
    "print(my_string)\n",
    "print(type(my_string))"
   ]
  },
  {
   "cell_type": "code",
   "execution_count": 10,
   "metadata": {},
   "outputs": [
    {
     "name": "stdout",
     "output_type": "stream",
     "text": [
      "HelloBahadir\n",
      "Hello Hello Hello Hello \n"
     ]
    }
   ],
   "source": [
    "print(\"Hello \" + \"Bahadir\")\n",
    "print(\"Hello \" * 4)"
   ]
  },
  {
   "cell_type": "code",
   "execution_count": 13,
   "metadata": {},
   "outputs": [
    {
     "name": "stdout",
     "output_type": "stream",
     "text": [
      "Enter a letter: A\n",
      "Enter a letter: A\n",
      "Enter a letter: E\n",
      "Enter a letter: I\n",
      "Enter a letter: O\n",
      "aaeio\n"
     ]
    }
   ],
   "source": [
    "# Ask five times the user to enter a letter from keyboard\n",
    "# the program should builds a string consist of vowels that are entered\n",
    "\n",
    "s = \"\"\n",
    "for i in range(5):\n",
    "    ch = input(\"Enter a letter: \")\n",
    "    ch = ch.lower() # converts all the letters to lowercase\n",
    "    if ch == \"a\" or ch == \"e\" or ch == \"i\" or ch == \"o\" or ch == \"u\":\n",
    "        s += ch\n",
    "\n",
    "print(s)"
   ]
  },
  {
   "cell_type": "code",
   "execution_count": 16,
   "metadata": {},
   "outputs": [
    {
     "name": "stdout",
     "output_type": "stream",
     "text": [
      "Your string contains the letter a\n",
      "Your string not contains the letter z\n"
     ]
    }
   ],
   "source": [
    "if \"a\" in \"bahadir\":\n",
    "    print(\"Your string contains the letter a\")\n",
    "    \n",
    "if \"z\" not in \"bahadir\":\n",
    "    print(\"Your string not contains the letter z\")"
   ]
  },
  {
   "cell_type": "code",
   "execution_count": 18,
   "metadata": {},
   "outputs": [
    {
     "name": "stdout",
     "output_type": "stream",
     "text": [
      "Enter a letter: A\n",
      "Enter a letter: E\n",
      "Enter a letter: I\n",
      "Enter a letter: T\n",
      "Enter a letter: O\n",
      "aeio\n"
     ]
    }
   ],
   "source": [
    "s = \"\"\n",
    "for i in range(5):\n",
    "    ch = input(\"Enter a letter: \")\n",
    "    ch = ch.lower() # converts all the letters to lowercase\n",
    "    if ch in \"aeiou\":\n",
    "        s += ch\n",
    "\n",
    "print(s)"
   ]
  },
  {
   "cell_type": "code",
   "execution_count": 29,
   "metadata": {},
   "outputs": [
    {
     "name": "stdout",
     "output_type": "stream",
     "text": [
      "P\n",
      "P\n",
      "n\n",
      "6\n",
      "Python\n"
     ]
    }
   ],
   "source": [
    "# Indexing\n",
    "\n",
    "s = \"Python\"\n",
    "print(s[0])\n",
    "print(s[-6])\n",
    "print(s[-1])\n",
    "print(len(s))\n",
    "print(s)"
   ]
  },
  {
   "cell_type": "code",
   "execution_count": 39,
   "metadata": {},
   "outputs": [
    {
     "name": "stdout",
     "output_type": "stream",
     "text": [
      "abcd\n",
      "abcd\n",
      "\n",
      "10\n",
      "\n",
      "cdefghij\n",
      "cdefghij\n",
      "\n",
      "abcdefghij\n",
      "abcdefghij\n",
      "\n",
      "bdf\n",
      "\n",
      "jihgfedcba\n"
     ]
    }
   ],
   "source": [
    "# Slices\n",
    "\n",
    "s = \"abcdefghij\"\n",
    "print(s[0:4])\n",
    "print(s[:4]) # default 0\n",
    "print()\n",
    "print(len(s))\n",
    "print()\n",
    "print(s[2:len(s)])\n",
    "print(s[2:]) # goes until at the end of the string\n",
    "print()\n",
    "print(s[:]) # print all the character in the string\n",
    "print(s)\n",
    "print()\n",
    "print(s[1:7:2]) # starts with index 1 and skip 2 letter end with index 7\n",
    "print()\n",
    "print(s[::-1]) # a negative step reverses your string"
   ]
  },
  {
   "cell_type": "code",
   "execution_count": 46,
   "metadata": {},
   "outputs": [
    {
     "name": "stdout",
     "output_type": "stream",
     "text": [
      "abcdefghij\n",
      "abcdefghij\n",
      "abcdefghij\n"
     ]
    }
   ],
   "source": [
    "# prints whole string\n",
    "s = \"abcdefghij\"\n",
    "for i in range(len(s)):\n",
    "    print(s[i],end=\"\")\n",
    "print()\n",
    "for i in s:\n",
    "    print(i,end=\"\")\n",
    "print()\n",
    "print(s)"
   ]
  },
  {
   "cell_type": "code",
   "execution_count": 52,
   "metadata": {},
   "outputs": [
    {
     "name": "stdout",
     "output_type": "stream",
     "text": [
      "abcdefghiiiiiiiij\n",
      "ABCDEFGHIIIIIIIIJ\n",
      "abcdefghiiiiiiiij\n",
      "ABcdefghiiiiiiiij\n",
      "6\n",
      "8\n"
     ]
    }
   ],
   "source": [
    "s = \"abcdefghiiiiiiiij\"\n",
    "print(s)\n",
    "print(s.upper())\n",
    "print(s)\n",
    "s = s.replace('ab','AB')\n",
    "print(s)\n",
    "print(s.index(\"g\"))\n",
    "print(s.count(\"i\"))"
   ]
  },
  {
   "cell_type": "code",
   "execution_count": 58,
   "metadata": {},
   "outputs": [
    {
     "name": "stdout",
     "output_type": "stream",
     "text": [
      "Enter a string: bahadir\n",
      "Your string is starts with a letter\n"
     ]
    }
   ],
   "source": [
    "# isalpha method is used to tell if character is a letter or not\n",
    "\n",
    "s = input(\"Enter a string: \")\n",
    "if s[0].isalpha():\n",
    "    print(\"Your string is starts with a letter\")\n",
    "else:\n",
    "    print(\"Your string doesnt start with a letter\")"
   ]
  },
  {
   "cell_type": "code",
   "execution_count": 66,
   "metadata": {},
   "outputs": [
    {
     "data": {
      "text/plain": [
       "['__add__',\n",
       " '__class__',\n",
       " '__contains__',\n",
       " '__delattr__',\n",
       " '__dir__',\n",
       " '__doc__',\n",
       " '__eq__',\n",
       " '__format__',\n",
       " '__ge__',\n",
       " '__getattribute__',\n",
       " '__getitem__',\n",
       " '__getnewargs__',\n",
       " '__gt__',\n",
       " '__hash__',\n",
       " '__init__',\n",
       " '__init_subclass__',\n",
       " '__iter__',\n",
       " '__le__',\n",
       " '__len__',\n",
       " '__lt__',\n",
       " '__mod__',\n",
       " '__mul__',\n",
       " '__ne__',\n",
       " '__new__',\n",
       " '__reduce__',\n",
       " '__reduce_ex__',\n",
       " '__repr__',\n",
       " '__rmod__',\n",
       " '__rmul__',\n",
       " '__setattr__',\n",
       " '__sizeof__',\n",
       " '__str__',\n",
       " '__subclasshook__',\n",
       " 'capitalize',\n",
       " 'casefold',\n",
       " 'center',\n",
       " 'count',\n",
       " 'encode',\n",
       " 'endswith',\n",
       " 'expandtabs',\n",
       " 'find',\n",
       " 'format',\n",
       " 'format_map',\n",
       " 'index',\n",
       " 'isalnum',\n",
       " 'isalpha',\n",
       " 'isascii',\n",
       " 'isdecimal',\n",
       " 'isdigit',\n",
       " 'isidentifier',\n",
       " 'islower',\n",
       " 'isnumeric',\n",
       " 'isprintable',\n",
       " 'isspace',\n",
       " 'istitle',\n",
       " 'isupper',\n",
       " 'join',\n",
       " 'ljust',\n",
       " 'lower',\n",
       " 'lstrip',\n",
       " 'maketrans',\n",
       " 'partition',\n",
       " 'replace',\n",
       " 'rfind',\n",
       " 'rindex',\n",
       " 'rjust',\n",
       " 'rpartition',\n",
       " 'rsplit',\n",
       " 'rstrip',\n",
       " 'split',\n",
       " 'splitlines',\n",
       " 'startswith',\n",
       " 'strip',\n",
       " 'swapcase',\n",
       " 'title',\n",
       " 'translate',\n",
       " 'upper',\n",
       " 'zfill']"
      ]
     },
     "execution_count": 66,
     "metadata": {},
     "output_type": "execute_result"
    }
   ],
   "source": [
    "dir(str)"
   ]
  },
  {
   "cell_type": "code",
   "execution_count": 67,
   "metadata": {},
   "outputs": [
    {
     "name": "stdout",
     "output_type": "stream",
     "text": [
      "Hi\n",
      "there\n"
     ]
    }
   ],
   "source": [
    "print(\"Hi\\nthere\")"
   ]
  },
  {
   "cell_type": "code",
   "execution_count": 69,
   "metadata": {},
   "outputs": [
    {
     "ename": "SyntaxError",
     "evalue": "invalid syntax (<ipython-input-69-901b53feac22>, line 1)",
     "output_type": "error",
     "traceback": [
      "\u001b[0;36m  File \u001b[0;32m\"<ipython-input-69-901b53feac22>\"\u001b[0;36m, line \u001b[0;32m1\u001b[0m\n\u001b[0;31m    s = 'I can't go there'\u001b[0m\n\u001b[0m               ^\u001b[0m\n\u001b[0;31mSyntaxError\u001b[0m\u001b[0;31m:\u001b[0m invalid syntax\n"
     ]
    }
   ],
   "source": [
    "s = 'I can't go there'\n",
    "print(s)"
   ]
  },
  {
   "cell_type": "code",
   "execution_count": 68,
   "metadata": {},
   "outputs": [
    {
     "name": "stdout",
     "output_type": "stream",
     "text": [
      "I can't go there\n"
     ]
    }
   ],
   "source": [
    "s = 'I can\\'t go there'\n",
    "print(s)"
   ]
  },
  {
   "cell_type": "code",
   "execution_count": 72,
   "metadata": {},
   "outputs": [
    {
     "name": "stdout",
     "output_type": "stream",
     "text": [
      "C:\\programs\\file.py\n"
     ]
    }
   ],
   "source": [
    "filename = \"C:\\\\programs\\\\file.py\"\n",
    "print(filename)"
   ]
  },
  {
   "cell_type": "code",
   "execution_count": 74,
   "metadata": {},
   "outputs": [
    {
     "name": "stdout",
     "output_type": "stream",
     "text": [
      "Enter some text: hi bahadir how are you\n",
      "4\n",
      "6\n",
      "15\n"
     ]
    }
   ],
   "source": [
    "# write a program that asks for the user for a string and prints out the location of each \"a\" in the string\n",
    "\n",
    "s = input(\"Enter some text: \")\n",
    "for i in range(len(s)):\n",
    "    if s[i] == \"a\":\n",
    "        print(i)"
   ]
  },
  {
   "cell_type": "code",
   "execution_count": null,
   "metadata": {},
   "outputs": [],
   "source": []
  }
 ],
 "metadata": {
  "kernelspec": {
   "display_name": "Python 3",
   "language": "python",
   "name": "python3"
  },
  "language_info": {
   "codemirror_mode": {
    "name": "ipython",
    "version": 3
   },
   "file_extension": ".py",
   "mimetype": "text/x-python",
   "name": "python",
   "nbconvert_exporter": "python",
   "pygments_lexer": "ipython3",
   "version": "3.8.5"
  }
 },
 "nbformat": 4,
 "nbformat_minor": 4
}
