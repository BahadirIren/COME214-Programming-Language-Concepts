{
 "cells": [
  {
   "cell_type": "code",
   "execution_count": 4,
   "metadata": {},
   "outputs": [
    {
     "name": "stdout",
     "output_type": "stream",
     "text": [
      "1\n",
      "2\n",
      "3\n",
      "4\n",
      "5\n"
     ]
    }
   ],
   "source": [
    "# print i as long as i less than 6\n",
    "\n",
    "i = 1\n",
    "while i < 6:\n",
    "    print(i)\n",
    "    i += 1"
   ]
  },
  {
   "cell_type": "code",
   "execution_count": 5,
   "metadata": {},
   "outputs": [
    {
     "name": "stdout",
     "output_type": "stream",
     "text": [
      "3\n",
      "4\n",
      "5\n",
      "6\n",
      "7\n",
      "8\n",
      "9\n"
     ]
    }
   ],
   "source": [
    "# x < 10 , x = 3\n",
    "\n",
    "x = 3\n",
    "while x < 10:\n",
    "    print(x)\n",
    "    x += 1"
   ]
  },
  {
   "cell_type": "code",
   "execution_count": 8,
   "metadata": {},
   "outputs": [
    {
     "name": "stdout",
     "output_type": "stream",
     "text": [
      "1\n",
      "4\n",
      "9\n",
      "16\n",
      "25\n",
      "36\n",
      "49\n",
      "64\n",
      "81\n",
      "100\n"
     ]
    }
   ],
   "source": [
    "# find square of each number 1 to 10\n",
    "\n",
    "i = 1\n",
    "while i < 11:\n",
    "    print(i**2)\n",
    "    i += 1"
   ]
  },
  {
   "cell_type": "code",
   "execution_count": 9,
   "metadata": {},
   "outputs": [
    {
     "name": "stdout",
     "output_type": "stream",
     "text": [
      "1\n",
      "2\n"
     ]
    }
   ],
   "source": [
    "# break statement\n",
    "\n",
    "i =1\n",
    "while i < 6:\n",
    "    if i == 3:\n",
    "        break\n",
    "    print(i)\n",
    "    i += 1"
   ]
  },
  {
   "cell_type": "code",
   "execution_count": 16,
   "metadata": {},
   "outputs": [
    {
     "name": "stdout",
     "output_type": "stream",
     "text": [
      "1\n",
      "2\n",
      "4\n",
      "5\n",
      "6\n"
     ]
    }
   ],
   "source": [
    "# continue statement\n",
    "\n",
    "i = 0\n",
    "while i < 6:\n",
    "    i += 1\n",
    "    if i == 3:\n",
    "        continue\n",
    "    print(i)"
   ]
  },
  {
   "cell_type": "code",
   "execution_count": 18,
   "metadata": {},
   "outputs": [
    {
     "name": "stdout",
     "output_type": "stream",
     "text": [
      "1\n",
      "2\n",
      "3\n",
      "4\n",
      "5\n",
      "i is no longer less than 6\n"
     ]
    }
   ],
   "source": [
    "# else \n",
    "\n",
    "i = 1\n",
    "while i < 6:\n",
    "    print(i)\n",
    "    i += 1\n",
    "else:\n",
    "    print(\"i is no longer less than 6\")\n",
    "    "
   ]
  },
  {
   "cell_type": "code",
   "execution_count": 25,
   "metadata": {},
   "outputs": [
    {
     "name": "stdout",
     "output_type": "stream",
     "text": [
      "Enter a number: 10\n",
      "Sum of this series is 55\n"
     ]
    }
   ],
   "source": [
    "# sum = 1+2+3+4....+n \n",
    "\n",
    "n = int(input(\"Enter a number: \"))\n",
    "\n",
    "sum = 0\n",
    "while 0 < n:\n",
    "    sum += n\n",
    "    n -= 1\n",
    "print(\"Sum of this series is\",sum)"
   ]
  },
  {
   "cell_type": "code",
   "execution_count": 27,
   "metadata": {},
   "outputs": [
    {
     "name": "stdout",
     "output_type": "stream",
     "text": [
      "0 2 4 6 8 10 12 14 16 18 20 22 24 26 28 "
     ]
    }
   ],
   "source": [
    "# find even number 0 - 30 \n",
    "\n",
    "even = 0\n",
    "while even < 30:\n",
    "    print(even,end=\" \")\n",
    "    even +=2\n",
    "    "
   ]
  },
  {
   "cell_type": "code",
   "execution_count": 36,
   "metadata": {},
   "outputs": [
    {
     "name": "stdout",
     "output_type": "stream",
     "text": [
      "Enter starting value: 10\n",
      "Enter ending value: 30\n",
      "11 13 15 17 19 21 23 25 27 29 "
     ]
    }
   ],
   "source": [
    "# ask for starting and ending values from the user print all the odd numbers between starting to ending values\n",
    "\n",
    "starting = int(input(\"Enter starting value: \"))\n",
    "ending = int(input(\"Enter ending value: \"))\n",
    "\n",
    "if starting > ending:\n",
    "    print(\"Ending value should be greater than starting value!\")\n",
    "    \n",
    "while starting < ending:\n",
    "    if starting % 2 != 0:\n",
    "        print(starting, end=\" \")\n",
    "    starting += 1"
   ]
  },
  {
   "cell_type": "code",
   "execution_count": 40,
   "metadata": {},
   "outputs": [
    {
     "name": "stdout",
     "output_type": "stream",
     "text": [
      "number 1 is odd\n",
      "number 2 is even\n",
      "number 3 is odd\n",
      "number 4 is even\n",
      "number 5 is odd\n",
      "number 6 is even\n",
      "number 7 is odd\n",
      "number 8 is even\n",
      "number 9 is odd\n",
      "number 10 is even\n"
     ]
    }
   ],
   "source": [
    "# even, odd number \n",
    "\n",
    "x = 1\n",
    "while x <= 10:\n",
    "    if x % 2 == 1:\n",
    "        print(f\"number {x} is odd\")\n",
    "    else:\n",
    "        print(f\"number {x} is even\")\n",
    "    x += 1\n",
    "    "
   ]
  },
  {
   "cell_type": "code",
   "execution_count": 90,
   "metadata": {},
   "outputs": [
    {
     "name": "stdout",
     "output_type": "stream",
     "text": [
      "Grades:\n",
      "99 93 66 84 6 64 10 31 54 \n",
      "\n",
      "Sum of all students grade is: 507\n",
      "Average is: 50.7\n"
     ]
    }
   ],
   "source": [
    "'''\n",
    "A class of 10 students took a quiz. The grades (int 0 to 100). Calculate and display the total of all students\n",
    "grades and the class average on the quiz\n",
    "\n",
    "Alternative 1\n",
    "\n",
    "'''\n",
    "\n",
    "import random\n",
    "\n",
    "students = []\n",
    "num_students = 10\n",
    "\n",
    "# filled the students list\n",
    "i = 0\n",
    "while i < num_students:\n",
    "    students.append(random.randrange(0,101))\n",
    "    i += 1\n",
    "\n",
    "# calculate sum\n",
    "sum = 0\n",
    "i = len(students) - 1 \n",
    "print(\"Grades:\")\n",
    "while i > 0:\n",
    "    print(students[i],end=\" \")\n",
    "    sum += students[i]\n",
    "    i -= 1\n",
    "    \n",
    "print(\"\\n\\nSum of all students grade is:\", sum)\n",
    "print(\"Average is:\", sum/len(students))"
   ]
  },
  {
   "cell_type": "code",
   "execution_count": 87,
   "metadata": {},
   "outputs": [
    {
     "name": "stdout",
     "output_type": "stream",
     "text": [
      "Enter student 1 grade: 50\n",
      "Enter student 2 grade: 50\n",
      "Enter student 3 grade: 50\n",
      "Enter student 4 grade: 59\n",
      "Enter student 5 grade: 50\n",
      "Enter student 6 grade: 50\n",
      "Enter student 7 grade: 50\n",
      "Enter student 8 grade: 50\n",
      "Enter student 9 grade: 50\n",
      "Enter student 10 grade: 50\n",
      "Sum of 10 students grade:  509\n",
      "Average is: 50.90\n"
     ]
    }
   ],
   "source": [
    "'''\n",
    "A class of 10 students took a quiz. The grades (int 0 to 100). Calculate and display the total of all students\n",
    "grades and the class average on the quiz\n",
    "\n",
    "Alternative 2\n",
    "\n",
    "'''\n",
    "\n",
    "total = 0 \n",
    "gradeCounter = 0\n",
    "numOfStudents = 10\n",
    "\n",
    "while gradeCounter < numOfStudents:\n",
    "    grade = int(input(f\"Enter student {gradeCounter + 1} grade: \"))\n",
    "    total += grade\n",
    "    gradeCounter += 1\n",
    "\n",
    "average = total / gradeCounter\n",
    "\n",
    "print(f\"Sum of {numOfStudents} students grade: \", total)\n",
    "print(f\"Average is:\", format(average,\".2f\"))"
   ]
  },
  {
   "cell_type": "code",
   "execution_count": 98,
   "metadata": {},
   "outputs": [
    {
     "name": "stdout",
     "output_type": "stream",
     "text": [
      "Enter student 1 grade (enter -1 to exit): 50\n",
      "Enter student 2 grade (enter -1 to exit): 50\n",
      "Enter student 3 grade (enter -1 to exit): 50\n",
      "Enter student 4 grade (enter -1 to exit): 50\n",
      "Enter student 5 grade (enter -1 to exit): -1\n",
      "\n",
      "You have entered 4 grade\n",
      "Average is: 50.00\n"
     ]
    }
   ],
   "source": [
    "total = 0 \n",
    "gradeCounter = 0\n",
    "\n",
    "grade = int(input(f\"Enter student {gradeCounter + 1} grade (enter -1 to exit): \"))\n",
    "\n",
    "while grade != -1:\n",
    "    total += grade\n",
    "    gradeCounter += 1\n",
    "    grade = int(input(f\"Enter student {gradeCounter + 1} grade (enter -1 to exit): \"))\n",
    "    \n",
    "print(\"\\nYou have entered\", gradeCounter, \"grade\")\n",
    "\n",
    "if gradeCounter != 0:\n",
    "    average = total / gradeCounter\n",
    "    print(f\"Average is:\", format(average,\".2f\"))\n",
    "else:\n",
    "    print(\"There is no grade\")\n"
   ]
  },
  {
   "cell_type": "code",
   "execution_count": 101,
   "metadata": {},
   "outputs": [
    {
     "name": "stdout",
     "output_type": "stream",
     "text": [
      "Enter result (1 for passed, 2 for failed): 1\n",
      "Enter result (1 for passed, 2 for failed): 1\n",
      "Enter result (1 for passed, 2 for failed): 1\n",
      "Enter result (1 for passed, 2 for failed): 1\n",
      "Enter result (1 for passed, 2 for failed): 1\n",
      "Enter result (1 for passed, 2 for failed): 1\n",
      "Enter result (1 for passed, 2 for failed): 1\n",
      "Enter result (1 for passed, 2 for failed): 2\n",
      "Enter result (1 for passed, 2 for failed): 2\n",
      "Enter result (1 for passed, 2 for failed): 1\n",
      "\n",
      "Number of students passed: 8\n",
      "Number of students failed: 2\n",
      "Raise Tuition\n"
     ]
    }
   ],
   "source": [
    "\n",
    "studentsCounter= 0\n",
    "passedCounter = 0\n",
    "failedCounter = 0\n",
    "\n",
    "while studentsCounter < 10:\n",
    "    status = int(input(\"Enter result (1 for passed, 2 for failed): \"))\n",
    "    if status == 1:\n",
    "        passedCounter += 1\n",
    "    else:\n",
    "        failedCounter += 1\n",
    "    \n",
    "    studentsCounter += 1\n",
    "    \n",
    "print(\"\\nNumber of students passed:\", passedCounter)\n",
    "print(\"Number of students failed:\", failedCounter)\n",
    "    \n",
    "if passedCounter >= 8:\n",
    "    print(\"Raise Tuition\")"
   ]
  },
  {
   "cell_type": "code",
   "execution_count": null,
   "metadata": {},
   "outputs": [],
   "source": []
  }
 ],
 "metadata": {
  "kernelspec": {
   "display_name": "Python 3",
   "language": "python",
   "name": "python3"
  },
  "language_info": {
   "codemirror_mode": {
    "name": "ipython",
    "version": 3
   },
   "file_extension": ".py",
   "mimetype": "text/x-python",
   "name": "python",
   "nbconvert_exporter": "python",
   "pygments_lexer": "ipython3",
   "version": "3.8.5"
  }
 },
 "nbformat": 4,
 "nbformat_minor": 4
}
