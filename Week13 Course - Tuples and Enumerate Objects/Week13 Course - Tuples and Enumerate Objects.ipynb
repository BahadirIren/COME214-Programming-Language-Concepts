{
 "cells": [
  {
   "cell_type": "code",
   "execution_count": 1,
   "metadata": {},
   "outputs": [
    {
     "name": "stdout",
     "output_type": "stream",
     "text": [
      "['red', 'green', 'blue']\n",
      "red\n",
      "<enumerate object at 0x7fa671811380>\n",
      "[(0, 'red'), (1, 'green'), (2, 'blue')]\n",
      "[(10, 'red'), (11, 'green'), (12, 'blue')]\n"
     ]
    }
   ],
   "source": [
    "colors = [\"red\", \"green\", \"blue\"]\n",
    "print(colors)\n",
    "print(colors[0])\n",
    "\n",
    "print(enumerate(colors))\n",
    "print(list(enumerate(colors)))\n",
    "print(list(enumerate(colors,10)))"
   ]
  },
  {
   "cell_type": "code",
   "execution_count": 2,
   "metadata": {},
   "outputs": [
    {
     "name": "stdout",
     "output_type": "stream",
     "text": [
      "1: red\n",
      "2: green\n",
      "3: blue\n"
     ]
    }
   ],
   "source": [
    "colors = [\"red\", \"green\", \"blue\"]\n",
    "\n",
    "for index, value in enumerate(colors,1):\n",
    "    print(f\"{index}: {value}\")"
   ]
  },
  {
   "cell_type": "code",
   "execution_count": 7,
   "metadata": {},
   "outputs": [
    {
     "name": "stdout",
     "output_type": "stream",
     "text": [
      "5\n",
      "         5       10\n",
      "               Hello\n",
      "               Hello\n"
     ]
    }
   ],
   "source": [
    "x = 5 \n",
    "y = 10\n",
    "\n",
    "print(f\"{x}\")\n",
    "print(f\"{x:>10} {y:>8}\") # put empty space\n",
    "\n",
    "print(f\"{'Hello':>20}\")  # same you must use single quote\n",
    "print(\"               Hello\") # same"
   ]
  },
  {
   "cell_type": "code",
   "execution_count": 15,
   "metadata": {},
   "outputs": [
    {
     "name": "stdout",
     "output_type": "stream",
     "text": [
      "Index    Value  Bar\n",
      "    0       19  ???????????????????\n",
      "    1        3  ???\n",
      "    2       15  ???????????????\n",
      "    3        7  ???????\n",
      "    4       11  ???????????\n"
     ]
    }
   ],
   "source": [
    "# create a primitive a bar chart\n",
    "\n",
    "numbers = [19, 3,15,7,11]\n",
    "\n",
    "print(f\"Index {'Value':>8}  Bar\")\n",
    "\n",
    "for index,value in enumerate(numbers):\n",
    "    print(f\"{index:>5} {value:>8}  {'?'*value}\")\n",
    "    "
   ]
  },
  {
   "cell_type": "code",
   "execution_count": 21,
   "metadata": {},
   "outputs": [
    {
     "name": "stdout",
     "output_type": "stream",
     "text": [
      "['black', 'green', 'blue']\n",
      "3\n",
      "('Jhon', 'Green', 100)\n",
      "100\n",
      "33361\n"
     ]
    }
   ],
   "source": [
    "# Lists\n",
    "colors = [\"red\", \"green\", \"blue\"] # mutable\n",
    "colors[0] = \"black\"\n",
    "print(colors)\n",
    "\n",
    "# Tuples\n",
    "\n",
    "student_tuple = (\"Jhon\", \"Green\", 100) # immutable\n",
    "print(len(student_tuple))\n",
    "print(student_tuple)\n",
    "print(student_tuple[2])\n",
    "\n",
    "time_tuple = (9,16,1)\n",
    "print(time_tuple[0]*3600 + time_tuple[1]*60 + time_tuple[2])\n"
   ]
  },
  {
   "cell_type": "code",
   "execution_count": 24,
   "metadata": {},
   "outputs": [
    {
     "name": "stdout",
     "output_type": "stream",
     "text": [
      "Jhon\n",
      "Green\n",
      "100\n"
     ]
    }
   ],
   "source": [
    "# unpacking process\n",
    "\n",
    "student_tuple = (\"Jhon\", \"Green\", 100)\n",
    "name,surname,grade = student_tuple\n",
    "\n",
    "print(name)\n",
    "print(surname)\n",
    "print(grade)"
   ]
  },
  {
   "cell_type": "code",
   "execution_count": 26,
   "metadata": {},
   "outputs": [
    {
     "name": "stdout",
     "output_type": "stream",
     "text": [
      "[1, 2, 3, 4, 5, 6, 7, 8, 9, 10, 11, 12, 13, 14, 15]\n",
      "(1, 2, 3, 4, 5, 6, 7, 8, 9, 10, 11, 12, 13, 14, 15)\n"
     ]
    }
   ],
   "source": [
    "my_list = list(range(1,16))\n",
    "\n",
    "print(my_list)\n",
    "\n",
    "my_tuple = tuple(range(1,16))\n",
    "\n",
    "print(my_tuple)"
   ]
  },
  {
   "cell_type": "code",
   "execution_count": 29,
   "metadata": {
    "scrolled": false
   },
   "outputs": [
    {
     "name": "stdout",
     "output_type": "stream",
     "text": [
      "77 56 34 12 \n",
      "23 99 61 43 \n",
      "34 62 16 73 \n"
     ]
    }
   ],
   "source": [
    "a = [[77,56,34,12],[23,99,61,43],[34,62,16,73]]\n",
    "\n",
    "for row in a:\n",
    "    for item in row:\n",
    "        print(item, end=\" \")\n",
    "    print()   "
   ]
  },
  {
   "cell_type": "code",
   "execution_count": 2,
   "metadata": {},
   "outputs": [
    {
     "name": "stdout",
     "output_type": "stream",
     "text": [
      "a[0][0] = 77\ta[0][1] = 56\ta[0][2] = 34\ta[0][3] = 12\t\n",
      "a[1][0] = 23\ta[1][1] = 99\ta[1][2] = 61\ta[1][3] = 43\t\n",
      "a[2][0] = 34\ta[2][1] = 62\ta[2][2] = 16\ta[2][3] = 73\t\n"
     ]
    }
   ],
   "source": [
    "a = [[77,56,34,12],[23,99,61,43],[34,62,16,73]]\n",
    "\n",
    "for i,row in enumerate(a):\n",
    "    for j, item in enumerate(row):\n",
    "        print(f\"a[{i}][{j}] = {item}\",end= \"\\t\")\n",
    "    print()"
   ]
  },
  {
   "cell_type": "code",
   "execution_count": null,
   "metadata": {},
   "outputs": [],
   "source": []
  }
 ],
 "metadata": {
  "kernelspec": {
   "display_name": "Python 3",
   "language": "python",
   "name": "python3"
  },
  "language_info": {
   "codemirror_mode": {
    "name": "ipython",
    "version": 3
   },
   "file_extension": ".py",
   "mimetype": "text/x-python",
   "name": "python",
   "nbconvert_exporter": "python",
   "pygments_lexer": "ipython3",
   "version": "3.9.4"
  }
 },
 "nbformat": 4,
 "nbformat_minor": 4
}
