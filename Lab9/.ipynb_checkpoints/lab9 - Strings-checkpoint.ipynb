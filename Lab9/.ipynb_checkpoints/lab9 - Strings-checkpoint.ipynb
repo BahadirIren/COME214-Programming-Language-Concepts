{
 "cells": [
  {
   "cell_type": "code",
   "execution_count": 5,
   "metadata": {},
   "outputs": [
    {
     "name": "stdout",
     "output_type": "stream",
     "text": [
      "WIND IN THE THE WILLOWS\n",
      "wind in the the willows\n",
      "Wind in the the willows\n",
      "wind in the the willows\n"
     ]
    }
   ],
   "source": [
    "title = \"wind in the the willows\"\n",
    "print(title.upper())\n",
    "print(title.lower())\n",
    "print(title.capitalize())\n",
    "print(title)"
   ]
  },
  {
   "cell_type": "code",
   "execution_count": 13,
   "metadata": {},
   "outputs": [
    {
     "name": "stdout",
     "output_type": "stream",
     "text": [
      "4\n",
      "   Hello, Hannah\n",
      "8\n"
     ]
    }
   ],
   "source": [
    "s = \"   Hi, Hannah\"\n",
    "print(s.count(\" \"))\n",
    "print(s.replace(\"Hi\",\"Hello\")) # replaces every occurance\n",
    "print(s.index(\"a\"))  # first occurance"
   ]
  },
  {
   "cell_type": "code",
   "execution_count": 18,
   "metadata": {},
   "outputs": [
    {
     "name": "stdout",
     "output_type": "stream",
     "text": [
      "True\n",
      "True\n"
     ]
    }
   ],
   "source": [
    "birth_year = \"1988\"\n",
    "state = \"LA\"\n",
    "print(birth_year.isdigit()) # returns true if string is consists of digit\n",
    "print(state.isalpha())  # returns true if string is consists of letter"
   ]
  },
  {
   "cell_type": "code",
   "execution_count": 23,
   "metadata": {},
   "outputs": [
    {
     "name": "stdout",
     "output_type": "stream",
     "text": [
      "Hannah\n"
     ]
    }
   ],
   "source": [
    "first_name = (\"   Hannah  \")\n",
    "print(first_name.strip())  # removes all the blanks"
   ]
  },
  {
   "cell_type": "code",
   "execution_count": 25,
   "metadata": {},
   "outputs": [
    {
     "name": "stdout",
     "output_type": "stream",
     "text": [
      "Hannah\n",
      "*******Hannah\n",
      "Hannah*****\n"
     ]
    }
   ],
   "source": [
    "first_name = (\"*******Hannah*****\")\n",
    "print(first_name.strip(\"*\"))  # removes all the specific input\n",
    "print(first_name.rstrip(\"*\"))\n",
    "print(first_name.lstrip(\"*\"))"
   ]
  },
  {
   "cell_type": "code",
   "execution_count": 31,
   "metadata": {},
   "outputs": [
    {
     "name": "stdout",
     "output_type": "stream",
     "text": [
      "10\n",
      "a\n",
      "i\n",
      "ab\n",
      "bdf\n"
     ]
    }
   ],
   "source": [
    "s = \"abcdefghij\"\n",
    "print(len(s))\n",
    "print(s[0])\n",
    "print(s[-2])\n",
    "print(s[0:2])\n",
    "print(s[1:7:2])"
   ]
  },
  {
   "cell_type": "code",
   "execution_count": 34,
   "metadata": {},
   "outputs": [
    {
     "name": "stdout",
     "output_type": "stream",
     "text": [
      "a b c d e f g h i j "
     ]
    }
   ],
   "source": [
    "s = \"abcdefghij\"\n",
    "\n",
    "for i in s:\n",
    "    print(i, end=\" \")"
   ]
  },
  {
   "cell_type": "code",
   "execution_count": 106,
   "metadata": {},
   "outputs": [
    {
     "name": "stdout",
     "output_type": "stream",
     "text": [
      "\n",
      "\n",
      "\n",
      "\n",
      "\n",
      "\n",
      "\n",
      "\n"
     ]
    }
   ],
   "source": [
    "# example1: print 3 blank lines\n",
    "\n",
    "for i in range(4):\n",
    "    print(\"\\n\")\n",
    "    \n",
    "# print(\"\\n\"*4)"
   ]
  },
  {
   "cell_type": "code",
   "execution_count": 60,
   "metadata": {},
   "outputs": [
    {
     "name": "stdout",
     "output_type": "stream",
     "text": [
      "Enter a string: bahadir\n",
      "1 3 "
     ]
    }
   ],
   "source": [
    "# example2: Print the location of each \"a\" in the string\n",
    "s = input(\"Enter a string: \")\n",
    "\n",
    "for i in range(len(s)):\n",
    "    if s[i] == \"a\":\n",
    "        print(i, end=\" \")"
   ]
  },
  {
   "cell_type": "code",
   "execution_count": 69,
   "metadata": {},
   "outputs": [
    {
     "name": "stdout",
     "output_type": "stream",
     "text": [
      "Q*ert!!!\n"
     ]
    }
   ],
   "source": [
    "# example3: Enter your string Qbert output will be Q*ert!!!\n",
    "\n",
    "s = \"Qbert\"\n",
    "s = s.replace(\"b\",\"*\")\n",
    "s += \"!!!\"\n",
    "print(s)\n",
    "# print(s+\"!!!\")"
   ]
  },
  {
   "cell_type": "code",
   "execution_count": 70,
   "metadata": {},
   "outputs": [
    {
     "name": "stdout",
     "output_type": "stream",
     "text": [
      "Enter a string: hello\n",
      "hheelllloo"
     ]
    }
   ],
   "source": [
    "'''\n",
    "example4: write a program that asks user for a string creates a new string that doubles each character\n",
    "of the original string\n",
    "'''\n",
    "\n",
    "s = input(\"Enter a string: \")\n",
    "\n",
    "for i in s:\n",
    "    print(i*2,end=\"\")"
   ]
  },
  {
   "cell_type": "code",
   "execution_count": 84,
   "metadata": {},
   "outputs": [
    {
     "name": "stdout",
     "output_type": "stream",
     "text": [
      "Enter your name: Elvis\n",
      "E El Elv Elvi Elvis "
     ]
    }
   ],
   "source": [
    "'''\n",
    "example5: write a program that asks a user for their name and prints it in the following pattern:\n",
    "input: Elvis\n",
    "output: E El Elv Elvi Elvis\n",
    "'''\n",
    "\n",
    "s = input(\"Enter your name: \")\n",
    "\n",
    "for i in range(len(s)):\n",
    "    print(s[:i+1], end=\" \")\n"
   ]
  },
  {
   "cell_type": "code",
   "execution_count": 99,
   "metadata": {},
   "outputs": [
    {
     "name": "stdout",
     "output_type": "stream",
     "text": [
      "Enter a decimal number: 3.1415\n",
      ".1415\n"
     ]
    }
   ],
   "source": [
    "# example6: write a program that contains decimal number, print out the decimal number if 3.1415 output: .1415\n",
    "\n",
    "num = input(\"Enter a decimal number: \")\n",
    "index = num.index(\".\")\n",
    "print(num[index:])"
   ]
  },
  {
   "cell_type": "code",
   "execution_count": 102,
   "metadata": {},
   "outputs": [
    {
     "name": "stdout",
     "output_type": "stream",
     "text": [
      "i love my Raspbery π!\n"
     ]
    }
   ],
   "source": [
    "# unicode for pi: 03c0\n",
    "print(\"i love my Raspbery \\u03c0!\")"
   ]
  },
  {
   "cell_type": "code",
   "execution_count": 105,
   "metadata": {},
   "outputs": [
    {
     "name": "stdout",
     "output_type": "stream",
     "text": [
      "AJrpan\n"
     ]
    }
   ],
   "source": [
    "'''\n",
    "given string\n",
    "s1: America\n",
    "s2: Japan\n",
    "new string made of first, middle and last character each string\n",
    "output: AJrpan\n",
    "'''\n",
    "\n",
    "s1 = \"America\"\n",
    "s2 = \"Japan\"\n",
    "s = \"\"\n",
    "\n",
    "s += s1[0]\n",
    "s += s2[0]\n",
    "\n",
    "s += s1[(len(s1)//2)]\n",
    "s += s2[(len(s2)//2)]\n",
    "\n",
    "s += s1[-1]\n",
    "s += s2[-1]\n",
    "print(s)"
   ]
  },
  {
   "cell_type": "code",
   "execution_count": null,
   "metadata": {},
   "outputs": [],
   "source": []
  }
 ],
 "metadata": {
  "kernelspec": {
   "display_name": "Python 3",
   "language": "python",
   "name": "python3"
  },
  "language_info": {
   "codemirror_mode": {
    "name": "ipython",
    "version": 3
   },
   "file_extension": ".py",
   "mimetype": "text/x-python",
   "name": "python",
   "nbconvert_exporter": "python",
   "pygments_lexer": "ipython3",
   "version": "3.8.5"
  }
 },
 "nbformat": 4,
 "nbformat_minor": 4
}
