{
 "cells": [
  {
   "cell_type": "code",
   "execution_count": 189,
   "metadata": {},
   "outputs": [
    {
     "name": "stdout",
     "output_type": "stream",
     "text": [
      "\n",
      "Write Rock, Paper or Scissors (Enter 1 for exit): baha\n",
      "Invalid input entered! \n",
      "\n",
      "Write Rock, Paper or Scissors (Enter 1 for exit): rock\n",
      "Tie\n",
      "\n",
      "Write Rock, Paper or Scissors (Enter 1 for exit): rock\n",
      "Tie\n",
      "\n",
      "Write Rock, Paper or Scissors (Enter 1 for exit): rock\n",
      "Paper covers rock, You lost\n",
      "\n",
      "Write Rock, Paper or Scissors (Enter 1 for exit): scissors\n",
      "Tie\n",
      "\n",
      "Write Rock, Paper or Scissors (Enter 1 for exit): scissors\n",
      "Scissors cut paper, You won\n",
      "\n",
      "Write Rock, Paper or Scissors (Enter 1 for exit): paper\n",
      "Scissors cut paper, You lost\n",
      "\n",
      "Write Rock, Paper or Scissors (Enter 1 for exit): PAPER\n",
      "Scissors cut paper, You lost\n",
      "\n",
      "Write Rock, Paper or Scissors (Enter 1 for exit): 1\n",
      "Game is finished!\n"
     ]
    }
   ],
   "source": [
    "# 1\n",
    "from random import randint\n",
    "\n",
    "def game(computer_choice):\n",
    "    # 0 means computer chose Rock\n",
    "    if computer_choice == 0:\n",
    "        if user_choice == \"rock\":\n",
    "            print(\"Tie\")\n",
    "            \n",
    "        elif user_choice == \"paper\":\n",
    "            print(\"Paper covers rock, You won\")\n",
    "            \n",
    "        elif user_choice == \"scissors\":\n",
    "            print(\"Rock crushes scissors, You lost\")\n",
    "            \n",
    "    # 1 means computer chose Paper\n",
    "    elif computer_choice == 1:\n",
    "        if user_choice == \"paper\":\n",
    "            print(\"Tie\")\n",
    "            \n",
    "        elif user_choice == \"rock\":\n",
    "            print(\"Paper covers rock, You lost\")\n",
    "            \n",
    "        elif user_choice == \"scissors\":\n",
    "            print(\"Scissors cut paper, You won\")\n",
    "            \n",
    "    # 2 means computer chose Scissors       \n",
    "    elif computer_choice == 2:\n",
    "        if user_choice == \"scissors\":\n",
    "            print(\"Tie\")\n",
    "            \n",
    "        elif user_choice == \"rock\":\n",
    "            print(\"Rock crushes scissors, You won\")\n",
    "            \n",
    "        elif user_choice == \"paper\":\n",
    "            print(\"Scissors cut paper, You lost\")\n",
    "        \n",
    "\n",
    "is_finished = False\n",
    "while not is_finished:\n",
    "    computer_choice = randint(0,2)\n",
    "    user_choice = input(\"\\nWrite Rock, Paper or Scissors (Enter 1 for exit): \")\n",
    "    user_choice = user_choice.lower()\n",
    "    \n",
    "    if user_choice == \"1\":\n",
    "        is_finished = True\n",
    "        print(\"Game is finished!\")\n",
    "    elif user_choice == \"rock\" or user_choice == \"paper\" or user_choice == \"scissors\":\n",
    "        game(computer_choice)\n",
    "    else:\n",
    "        print(\"Invalid input entered! \")\n",
    "        \n",
    "        \n",
    "        "
   ]
  },
  {
   "cell_type": "code",
   "execution_count": 232,
   "metadata": {},
   "outputs": [
    {
     "name": "stdout",
     "output_type": "stream",
     "text": [
      "Enter the total number of list elements: 10\n",
      "Enter the value of 1 element: 43\n",
      "Enter the value of 2 element: 23\n",
      "Enter the value of 3 element: 55\n",
      "Enter the value of 4 element: 32\n",
      "Enter the value of 5 element: 35\n",
      "Enter the value of 6 element: 66\n",
      "Enter the value of 7 element: 98\n",
      "Enter the value of 8 element: 23\n",
      "Enter the value of 9 element: 12\n",
      "Enter the value of 10 element: 1\n",
      "\n",
      "Elements before sorting the list:  [43, 23, 55, 32, 35, 66, 98, 23, 12, 1]\n",
      "Elements after sorting the list in ascending order is:  [1, 12, 23, 23, 32, 35, 43, 55, 66, 98]\n"
     ]
    }
   ],
   "source": [
    "# 2\n",
    "\n",
    "\n",
    "def sort_list(list):\n",
    "    for i in range(len(list)):\n",
    "        for j in range(i + 1, len(list)):\n",
    "            if list[i] > list[j]:\n",
    "                list[i],list[j] = list[j],list[i]\n",
    "    \n",
    "    return list\n",
    "   \n",
    "size_of_list = int(input(\"Enter the total number of list elements: \")) \n",
    "list = []\n",
    "\n",
    "for i in range(size_of_list):\n",
    "    list.append(int(input(f\"Enter the value of {i + 1} element: \")))\n",
    "    \n",
    "print(\"\\nElements before sorting the list: \", list[:])\n",
    "print(\"Elements after sorting the list in ascending order is: \", sort_list(list))"
   ]
  },
  {
   "cell_type": "code",
   "execution_count": 1,
   "metadata": {},
   "outputs": [
    {
     "name": "stdout",
     "output_type": "stream",
     "text": [
      "Enter subtext: doubt\n",
      "\n",
      "The original text is: \n",
      "“Doubt thou the stars are fire;\n",
      "Doubt that the sun doth move;\n",
      "Doubt truth to be a liar; \n",
      "But never doubt I love.”\n",
      "\n",
      "The subtext is: doubt\n",
      "The frequency of subtext in Corpus is: 4\n"
     ]
    }
   ],
   "source": [
    "# 3 \n",
    "\n",
    "corpus_original = ('''\n",
    "“Doubt thou the stars are fire;\n",
    "Doubt that the sun doth move;\n",
    "Doubt truth to be a liar; \n",
    "But never doubt I love.”''')\n",
    "\n",
    "corpus_lower = corpus_original.lower()\n",
    "subtext = input(\"Enter subtext: \")\n",
    "corpus_splitted = corpus_lower.split()\n",
    "\n",
    "frequency = 0\n",
    "for i in range(len(corpus_splitted)):\n",
    "    if subtext in corpus_splitted[i]:\n",
    "        frequency += 1\n",
    "        \n",
    "print(\"\\nThe original text is:\", corpus_original)\n",
    "print(\"\\nThe subtext is:\", subtext)\n",
    "print(\"The frequency of subtext in Corpus is:\", frequency)"
   ]
  },
  {
   "cell_type": "code",
   "execution_count": 60,
   "metadata": {},
   "outputs": [
    {
     "name": "stdout",
     "output_type": "stream",
     "text": [
      "The sum of dice 1 and dice 2: 6\n",
      "\n",
      "Rolling dice...\n",
      "The sum of dice 1 and dice 2: 3\n",
      "\n",
      "Rolling dice...\n",
      "The sum of dice 1 and dice 2: 11\n",
      "\n",
      "Rolling dice...\n",
      "The sum of dice 1 and dice 2: 11\n",
      "\n",
      "Rolling dice...\n",
      "The sum of dice 1 and dice 2: 4\n",
      "\n",
      "Rolling dice...\n",
      "The sum of dice 1 and dice 2: 11\n",
      "\n",
      "Rolling dice...\n",
      "The sum of dice 1 and dice 2: 6\n",
      "You won, game is finished!\n"
     ]
    }
   ],
   "source": [
    "# 4\n",
    "\n",
    "import random\n",
    "\n",
    "def roll_dice():\n",
    "    dice1 = random.randrange(1,7)\n",
    "    dice2 = random.randrange(1,7)\n",
    "    return dice1 + dice2\n",
    "\n",
    "\n",
    "# print(\"\\nRolling dice...\")\n",
    "sum_of_dice_face = roll_dice()\n",
    "print(\"The sum of dice 1 and dice 2:\", sum_of_dice_face)\n",
    "\n",
    "if sum_of_dice_face == 7 or sum_of_dice_face == 11:\n",
    "    print(\"You won, game is finished!\")\n",
    "\n",
    "elif sum_of_dice_face == 2 or sum_of_dice_face == 3 or sum_of_dice_face == 12:\n",
    "    print(\"You lost, game over!\")\n",
    "\n",
    "else:\n",
    "    point = sum_of_dice_face\n",
    "    \n",
    "    while True:\n",
    "        \n",
    "        print(\"\\nRolling dice...\")\n",
    "        sum_of_dice_face = roll_dice()\n",
    "        \n",
    "        if point == sum_of_dice_face:\n",
    "            print(\"The sum of dice 1 and dice 2:\", sum_of_dice_face)\n",
    "            print(\"You won, game is finished!\")\n",
    "            break\n",
    "            \n",
    "        elif sum_of_dice_face == 7:    \n",
    "            print(\"The sum of dice 1 and dice 2:\", sum_of_dice_face)\n",
    "            print(\"You lost, game over!\")\n",
    "            break\n",
    "            \n",
    "        else:\n",
    "            print(\"The sum of dice 1 and dice 2:\", sum_of_dice_face)\n"
   ]
  },
  {
   "cell_type": "code",
   "execution_count": 223,
   "metadata": {},
   "outputs": [
    {
     "name": "stdout",
     "output_type": "stream",
     "text": [
      "Enter your age: -1\n",
      "Age must be positive number!\n",
      "Enter your age: 5\n",
      "Eligible for a student discount\n"
     ]
    }
   ],
   "source": [
    "# 5 \n",
    "\n",
    "try:\n",
    "    age = int(input(\"Enter your age: \"))\n",
    "    while age < 0:\n",
    "        print(\"Age must be positive number!\")\n",
    "        age = int(input(\"Enter your age: \"))\n",
    "    else:\n",
    "        if age <= 19:\n",
    "            print(\"Eligible for a student discount\")\n",
    "        elif age >= 65:\n",
    "            print(\"Eligible for a senior discount\")\n",
    "        else:\n",
    "            print(\"Not eligible for a discount\")\n",
    "except:\n",
    "    print(\"Invalid input, Age must be integer number!\")"
   ]
  },
  {
   "cell_type": "code",
   "execution_count": 245,
   "metadata": {},
   "outputs": [
    {
     "name": "stdout",
     "output_type": "stream",
     "text": [
      "Enter a decimal number: 40\n",
      "Enter a base number between 2 and 16: 9\n",
      "\n",
      "The decimal number 40 to base 9 is: 44\n"
     ]
    }
   ],
   "source": [
    "# 6\n",
    "\n",
    "def decimal_to_base(number, base):\n",
    "    result = \"\"\n",
    "    while number > 0:\n",
    "        remainder = number % base\n",
    "        result += str(remainder)\n",
    "        number = number // base\n",
    "    # reversed the string\n",
    "    result = result[len(result)::-1]\n",
    "    return result\n",
    "    \n",
    "decimal_number = int(input(\"Enter a decimal number: \"))\n",
    "base = int(input(\"Enter a base number between 2 and 16: \"))\n",
    "\n",
    "if base < 2 or base > 16:\n",
    "    print(\"\\nInvalid base number entered!, must be between 2 to 16\")\n",
    "else:\n",
    "    print(f\"\\nThe decimal number {decimal_number} to base {base} is:\",decimal_to_base(decimal_number, base))"
   ]
  },
  {
   "cell_type": "code",
   "execution_count": 164,
   "metadata": {},
   "outputs": [
    {
     "name": "stdout",
     "output_type": "stream",
     "text": [
      "ABC\n",
      "ACB\n",
      "CBA\n",
      "BCA\n",
      "CAB\n",
      "BAC\n"
     ]
    }
   ],
   "source": [
    "# 7\n",
    "\n",
    "text = ['A','B','C']\n",
    "\n",
    "for i in range(len(text)):\n",
    "    if text[0] != text[1] and text[1] != text[2]:\n",
    "        for j in range(1,len(text)):\n",
    "            if j == len(text)-1:\n",
    "                text[1],text[2] = text[2],text[1] \n",
    "            print(\"\".join(text[i:]+ text[:i]))\n",
    "            \n",
    "                 "
   ]
  },
  {
   "cell_type": "code",
   "execution_count": 8,
   "metadata": {},
   "outputs": [
    {
     "name": "stdout",
     "output_type": "stream",
     "text": [
      "Enter a text: amad\n",
      "\n",
      "amad is not a palindrome\n"
     ]
    }
   ],
   "source": [
    "# 8 \n",
    "import string\n",
    "\n",
    "def convert_text(text):\n",
    "    text = text.replace(\" \", \"\")\n",
    "    text = text.lower()\n",
    "\n",
    "    for c in string.punctuation:\n",
    "        text = text.replace(c , \"\")\n",
    "        \n",
    "    return text\n",
    "\n",
    "text_original = input(\"Enter a text: \")\n",
    "text = convert_text(text_original)\n",
    "\n",
    "if text == text[len(text)::-1]:\n",
    "    print(f\"\\n{text_original} is a palindrome\")\n",
    "else:\n",
    "    print(f\"\\n{text_original} is not a palindrome\")"
   ]
  },
  {
   "cell_type": "code",
   "execution_count": 68,
   "metadata": {},
   "outputs": [
    {
     "name": "stdout",
     "output_type": "stream",
     "text": [
      "Enter first string: baha\n",
      "Enter second string: iren\n",
      "baha\n",
      "iren\n"
     ]
    }
   ],
   "source": [
    "# 9 \n",
    "\n",
    "def compare_strings(string1, string2):\n",
    "    if len(string1) > len(string2):\n",
    "        print(string1)\n",
    "    elif len(string1) == len(string2):\n",
    "        print(string1)\n",
    "        print(string2)\n",
    "    else:\n",
    "        print(string2)\n",
    "\n",
    "string1 = input(\"Enter first string: \")\n",
    "string2 = input(\"Enter second string: \")\n",
    "\n",
    "compare_strings(string1,string2)\n"
   ]
  },
  {
   "cell_type": "code",
   "execution_count": 213,
   "metadata": {},
   "outputs": [
    {
     "name": "stdout",
     "output_type": "stream",
     "text": [
      "Enter a year: 2024\n",
      "2024 is leap year\n"
     ]
    }
   ],
   "source": [
    "# 10\n",
    "\n",
    "year = int(input(\"Enter a year: \"))\n",
    "\n",
    "if (year % 4 == 0 and year % 100 != 0) or year % 400 == 0:\n",
    "    print(f\"{year} is leap year\")\n",
    "else:\n",
    "    print(f\"{year} is not a leap year\")"
   ]
  }
 ],
 "metadata": {
  "kernelspec": {
   "display_name": "Python 3",
   "language": "python",
   "name": "python3"
  },
  "language_info": {
   "codemirror_mode": {
    "name": "ipython",
    "version": 3
   },
   "file_extension": ".py",
   "mimetype": "text/x-python",
   "name": "python",
   "nbconvert_exporter": "python",
   "pygments_lexer": "ipython3",
   "version": "3.8.5"
  }
 },
 "nbformat": 4,
 "nbformat_minor": 4
}
