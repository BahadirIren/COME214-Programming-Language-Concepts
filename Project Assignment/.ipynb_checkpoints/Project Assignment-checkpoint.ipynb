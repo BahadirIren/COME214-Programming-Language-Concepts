{
 "cells": [
  {
   "cell_type": "code",
   "execution_count": 204,
   "metadata": {},
   "outputs": [
    {
     "name": "stdout",
     "output_type": "stream",
     "text": [
      "Enter subtext: doubt\n",
      "\n",
      "The original text is: \n",
      "“Doubt thou the stars are fire;\n",
      "Doubt that the sun doth move;\n",
      "Doubt truth to be a liar; \n",
      "But never doubt I love.”\n",
      "\n",
      "The subtext is: doubt\n",
      "The frequency of subtext in Corpus is: 4\n"
     ]
    }
   ],
   "source": [
    "# 3\n",
    "\n",
    "corpus_original = ('''\n",
    "“Doubt thou the stars are fire;\n",
    "Doubt that the sun doth move;\n",
    "Doubt truth to be a liar; \n",
    "But never doubt I love.”''')\n",
    "\n",
    "corpus_lower = corpus_original.lower()\n",
    "subtext = input(\"Enter subtext: \")\n",
    "corpus_splitted = corpus_lower.split()\n",
    "\n",
    "frequency = 0\n",
    "for i in range(len(corpus_splitted)):\n",
    "    if subtext in corpus_splitted[i]:\n",
    "        frequency += 1\n",
    "        \n",
    "print(\"\\nThe original text is:\", corpus_original)\n",
    "print(\"\\nThe subtext is:\", subtext)\n",
    "print(\"The frequency of subtext in Corpus is:\", frequency)"
   ]
  },
  {
   "cell_type": "code",
   "execution_count": 223,
   "metadata": {},
   "outputs": [
    {
     "name": "stdout",
     "output_type": "stream",
     "text": [
      "Enter your age: -1\n",
      "Age must be positive number!\n",
      "Enter your age: 5\n",
      "Eligible for a student discount\n"
     ]
    }
   ],
   "source": [
    "# 5 \n",
    "\n",
    "try:\n",
    "    age = int(input(\"Enter your age: \"))\n",
    "    while age < 0:\n",
    "        print(\"Age must be positive number!\")\n",
    "        age = int(input(\"Enter your age: \"))\n",
    "    else:\n",
    "        if age <= 19:\n",
    "            print(\"Eligible for a student discount\")\n",
    "        elif age >= 65:\n",
    "            print(\"Eligible for a senior discount\")\n",
    "        else:\n",
    "            print(\"Not eligible for a discount\")\n",
    "except:\n",
    "    print(\"Invalid input, Age must be integer number!\")"
   ]
  },
  {
   "cell_type": "code",
   "execution_count": 245,
   "metadata": {},
   "outputs": [
    {
     "name": "stdout",
     "output_type": "stream",
     "text": [
      "Enter a decimal number: 40\n",
      "Enter a base number between 2 and 16: 9\n",
      "\n",
      "The decimal number 40 to base 9 is: 44\n"
     ]
    }
   ],
   "source": [
    "# 6\n",
    "\n",
    "def decimal_to_base(number, base):\n",
    "    result = \"\"\n",
    "    while number > 0:\n",
    "        remainder = number % base\n",
    "        result += str(remainder)\n",
    "        number = number // base\n",
    "    # reversed the string\n",
    "    result = result[len(result)::-1]\n",
    "    return result\n",
    "    \n",
    "decimal_number = int(input(\"Enter a decimal number: \"))\n",
    "base = int(input(\"Enter a base number between 2 and 16: \"))\n",
    "\n",
    "if base < 2 or base > 16:\n",
    "    print(\"\\nInvalid base number entered!, must be between 2 to 16\")\n",
    "else:\n",
    "    print(f\"\\nThe decimal number {decimal_number} to base {base} is:\",decimal_to_base(decimal_number, base))"
   ]
  },
  {
   "cell_type": "code",
   "execution_count": 95,
   "metadata": {},
   "outputs": [
    {
     "name": "stdout",
     "output_type": "stream",
     "text": [
      "Enter a text: madam\n",
      "madam is a palindrome\n"
     ]
    }
   ],
   "source": [
    "# 8 \n",
    "\n",
    "text = input(\"Enter a text: \")\n",
    "\n",
    "if text[:] == text[len(text)::-1]:\n",
    "    print(f\"{text} is a palindrome\")\n",
    "else:\n",
    "    print(f\"{text} is not a palindrome\")"
   ]
  },
  {
   "cell_type": "code",
   "execution_count": 96,
   "metadata": {},
   "outputs": [
    {
     "name": "stdout",
     "output_type": "stream",
     "text": [
      "Enter first string: baha\n",
      "Enter second string: iren\n",
      "baha\n",
      "iren\n"
     ]
    }
   ],
   "source": [
    "# 9 \n",
    "\n",
    "def compare_strings(string1, string2):\n",
    "    if len(string1) > len(string2):\n",
    "        print(string1)\n",
    "    elif len(string1) == len(string2):\n",
    "        print(string1)\n",
    "        print(string2)\n",
    "    else:\n",
    "        print(string2)\n",
    "\n",
    "string1 = input(\"Enter first string: \")\n",
    "string2 = input(\"Enter second string: \")\n",
    "\n",
    "compare_strings(string1,string2)\n"
   ]
  },
  {
   "cell_type": "code",
   "execution_count": 213,
   "metadata": {},
   "outputs": [
    {
     "name": "stdout",
     "output_type": "stream",
     "text": [
      "Enter a year: 2024\n",
      "2024 is leap year\n"
     ]
    }
   ],
   "source": [
    "# 10\n",
    "\n",
    "year = int(input(\"Enter a year: \"))\n",
    "\n",
    "if (year % 4 == 0 and year % 100 != 0) or year % 400 == 0:\n",
    "    print(f\"{year} is leap year\")\n",
    "else:\n",
    "    print(f\"{year} is not a leap year\")"
   ]
  },
  {
   "cell_type": "code",
   "execution_count": null,
   "metadata": {},
   "outputs": [],
   "source": []
  }
 ],
 "metadata": {
  "kernelspec": {
   "display_name": "Python 3",
   "language": "python",
   "name": "python3"
  },
  "language_info": {
   "codemirror_mode": {
    "name": "ipython",
    "version": 3
   },
   "file_extension": ".py",
   "mimetype": "text/x-python",
   "name": "python",
   "nbconvert_exporter": "python",
   "pygments_lexer": "ipython3",
   "version": "3.8.5"
  }
 },
 "nbformat": 4,
 "nbformat_minor": 4
}
