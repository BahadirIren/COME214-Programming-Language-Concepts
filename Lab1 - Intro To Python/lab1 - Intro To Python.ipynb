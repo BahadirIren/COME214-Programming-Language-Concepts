{
 "cells": [
  {
   "cell_type": "code",
   "execution_count": 5,
   "metadata": {},
   "outputs": [
    {
     "name": "stdout",
     "output_type": "stream",
     "text": [
      "Hello and welcome Bahadir Iren\n"
     ]
    }
   ],
   "source": [
    "my_name = \"Bahadir Iren\"\n",
    "# print(\"Hello and welcome \"+ my_name)\n",
    "print(\"Hello and welcome\", my_name)"
   ]
  },
  {
   "cell_type": "code",
   "execution_count": 6,
   "metadata": {},
   "outputs": [
    {
     "name": "stdout",
     "output_type": "stream",
     "text": [
      "Welcome to Python\n",
      "Welcome to Python\n",
      "Welcome to Python\n"
     ]
    }
   ],
   "source": [
    "print(\"Welcome to Python\")\n",
    "print('Welcome to Python')\n",
    "print(\"Welcome\",\"to\",\"Python\")\n",
    "# al is same"
   ]
  },
  {
   "cell_type": "code",
   "execution_count": 7,
   "metadata": {},
   "outputs": [
    {
     "name": "stdout",
     "output_type": "stream",
     "text": [
      "Welcome\n",
      "to\n",
      "Python\n"
     ]
    }
   ],
   "source": [
    "print(\"Welcome\\nto\\nPython\")"
   ]
  },
  {
   "cell_type": "code",
   "execution_count": 6,
   "metadata": {
    "scrolled": true
   },
   "outputs": [],
   "source": [
    "# comment line\n",
    "'''\n",
    "name surname\n",
    "'''"
   ]
  },
  {
   "cell_type": "code",
   "execution_count": 12,
   "metadata": {
    "scrolled": true
   },
   "outputs": [
    {
     "name": "stdout",
     "output_type": "stream",
     "text": [
      "5\n",
      "2\n",
      "8\n",
      "13.0\n",
      "5\n",
      "8\n"
     ]
    }
   ],
   "source": [
    "print(2+3)  # addition\n",
    "print(4-2)  # subtraction\n",
    "print(2*4)  # multiplication\n",
    "print(65/5) # division\n",
    "print(137%11) # remainder\n",
    "print(2**3) # pow"
   ]
  },
  {
   "cell_type": "code",
   "execution_count": 1,
   "metadata": {},
   "outputs": [
    {
     "name": "stdout",
     "output_type": "stream",
     "text": [
      "130\n"
     ]
    }
   ],
   "source": [
    "print(45+85)"
   ]
  },
  {
   "cell_type": "code",
   "execution_count": 2,
   "metadata": {},
   "outputs": [
    {
     "name": "stdout",
     "output_type": "stream",
     "text": [
      "<class 'int'>\n"
     ]
    }
   ],
   "source": [
    "x=45\n",
    "print(type(x))"
   ]
  },
  {
   "cell_type": "code",
   "execution_count": 3,
   "metadata": {},
   "outputs": [
    {
     "name": "stdout",
     "output_type": "stream",
     "text": [
      "2.5\n"
     ]
    }
   ],
   "source": [
    "print(2+0.5)"
   ]
  },
  {
   "cell_type": "code",
   "execution_count": 16,
   "metadata": {},
   "outputs": [
    {
     "name": "stdout",
     "output_type": "stream",
     "text": [
      "x is = 2.5\n"
     ]
    }
   ],
   "source": [
    "x = 2.5\n",
    "print(\"x is =\",x)"
   ]
  },
  {
   "cell_type": "code",
   "execution_count": 18,
   "metadata": {},
   "outputs": [
    {
     "name": "stdout",
     "output_type": "stream",
     "text": [
      "two times of the result is = 26\n"
     ]
    }
   ],
   "source": [
    "a = 6\n",
    "b = 7\n",
    "result = a + b\n",
    "print(\"two times of the result is =\", 2 * result)"
   ]
  },
  {
   "cell_type": "code",
   "execution_count": 19,
   "metadata": {},
   "outputs": [
    {
     "name": "stdout",
     "output_type": "stream",
     "text": [
      "1.75\n",
      "1\n"
     ]
    }
   ],
   "source": [
    "print(7/4)\n",
    "print(7//4) # takes int part"
   ]
  },
  {
   "cell_type": "code",
   "execution_count": 4,
   "metadata": {},
   "outputs": [
    {
     "name": "stdout",
     "output_type": "stream",
     "text": [
      "0\n"
     ]
    }
   ],
   "source": [
    "print(1660%5)"
   ]
  },
  {
   "cell_type": "code",
   "execution_count": 5,
   "metadata": {},
   "outputs": [
    {
     "name": "stdout",
     "output_type": "stream",
     "text": [
      "150.0\n"
     ]
    }
   ],
   "source": [
    "print(1.5e2) # e means 10 to the power"
   ]
  },
  {
   "cell_type": "code",
   "execution_count": 24,
   "metadata": {},
   "outputs": [
    {
     "name": "stdout",
     "output_type": "stream",
     "text": [
      "61\n",
      "61\n"
     ]
    }
   ],
   "source": [
    "# +,-,*,/ will be evaluated from left to right\n",
    "# ** will be evaluated from right to left\n",
    "a = 2\n",
    "b = 4\n",
    "c = 5\n",
    "d = 6\n",
    "y = a*b**2 + b*d +c\n",
    "print(y)\n",
    "y = a*(b**2) + (b*d) + c\n",
    "print(y)"
   ]
  },
  {
   "cell_type": "code",
   "execution_count": 25,
   "metadata": {},
   "outputs": [
    {
     "name": "stdout",
     "output_type": "stream",
     "text": [
      "262144\n",
      "262144\n",
      "4096\n"
     ]
    }
   ],
   "source": [
    "print(4**3**2)\n",
    "print(4**(3**2))\n",
    "print((4**3)**2)"
   ]
  },
  {
   "cell_type": "code",
   "execution_count": 26,
   "metadata": {},
   "outputs": [
    {
     "name": "stdout",
     "output_type": "stream",
     "text": [
      "38.25\n",
      "38.25\n",
      "38.25\n"
     ]
    }
   ],
   "source": [
    "# given that y=ax^3+7, express this with different ways\n",
    "\n",
    "y1 = a*(x**3) + 7\n",
    "y2 = a*x**3 + 7\n",
    "y3 = a*pow(x,3) +7\n",
    "\n",
    "print(y1)\n",
    "print(y2)\n",
    "print(y3)"
   ]
  },
  {
   "cell_type": "code",
   "execution_count": 29,
   "metadata": {},
   "outputs": [
    {
     "name": "stdout",
     "output_type": "stream",
     "text": [
      "40\n",
      "40\n"
     ]
    }
   ],
   "source": [
    "number1 = 10\n",
    "number1 += 30\n",
    "print(number1)\n",
    "number2 = 10\n",
    "number2 = number2 + 30\n",
    "print(number2)"
   ]
  },
  {
   "cell_type": "code",
   "execution_count": 30,
   "metadata": {},
   "outputs": [
    {
     "name": "stdout",
     "output_type": "stream",
     "text": [
      "20\n",
      "30\n"
     ]
    }
   ],
   "source": [
    "age = 20\n",
    "AGE = 30\n",
    "print(age)\n",
    "print(AGE) # python sensitive about uppercase"
   ]
  },
  {
   "cell_type": "code",
   "execution_count": 33,
   "metadata": {},
   "outputs": [
    {
     "name": "stdout",
     "output_type": "stream",
     "text": [
      "Enter an integer number = 40\n",
      "Eneter another integer number = 30\n",
      "value1 + value2 = 70\n"
     ]
    }
   ],
   "source": [
    "value1 = int(input(\"Enter an integer number = \"))\n",
    "value2 = int(input(\"Eneter another integer number = \"))\n",
    "print(\"value1 + value2 =\", value1 + value2)"
   ]
  },
  {
   "cell_type": "code",
   "execution_count": 39,
   "metadata": {},
   "outputs": [
    {
     "name": "stdout",
     "output_type": "stream",
     "text": [
      "5.0 <class 'float'>\n",
      "22 <class 'int'>\n"
     ]
    }
   ],
   "source": [
    "x = 5     # integer\n",
    "y = 22.5  # float\n",
    "x = float(x)  # int to float\n",
    "print(x,type(x))\n",
    "\n",
    "\n",
    "y = int(y) # float to int\n",
    "print(y,type(y))\n",
    "\n"
   ]
  },
  {
   "cell_type": "code",
   "execution_count": 41,
   "metadata": {},
   "outputs": [
    {
     "name": "stdout",
     "output_type": "stream",
     "text": [
      "graham  <class 'str'>\n",
      "John \n"
     ]
    }
   ],
   "source": [
    "ceaser = \"graham \"\n",
    "praline = \"John \"\n",
    "print(ceaser, type(ceaser))\n",
    "print(praline)"
   ]
  },
  {
   "cell_type": "code",
   "execution_count": 46,
   "metadata": {},
   "outputs": [
    {
     "name": "stdout",
     "output_type": "stream",
     "text": [
      "True\n",
      "False\n",
      "False\n",
      "True\n",
      "False\n",
      "True\n"
     ]
    }
   ],
   "source": [
    "print(7 > 4)\n",
    "print(7 < 4)\n",
    "print(7 <= 4)\n",
    "print(7 >= 4)\n",
    "print(7 == 4)\n",
    "print(7 != 4)"
   ]
  },
  {
   "cell_type": "code",
   "execution_count": 48,
   "metadata": {},
   "outputs": [
    {
     "name": "stdout",
     "output_type": "stream",
     "text": [
      "Enter an integer number = 5\n",
      "Eneter an integer number = 3\n",
      "15\n",
      "1.6666666666666667\n",
      "1\n",
      "8\n",
      "2\n",
      "False\n",
      "True\n",
      "False\n",
      "True\n",
      "False\n",
      "True\n",
      "125\n"
     ]
    }
   ],
   "source": [
    "value1 = int(input(\"Enter an integer number = \"))\n",
    "value2 = int(input(\"Eneter an integer number = \"))\n",
    "print(value1 * value2)\n",
    "print(value1 / value2)\n",
    "print(value1 // value2)\n",
    "print(value1 + value2)\n",
    "print(value1 - value2)\n",
    "print(value1 < value2)\n",
    "print(value1 > value2)\n",
    "print(value1 <= value2)\n",
    "print(value1 >= value2)\n",
    "print(value1 == value2)\n",
    "print(value1 != value2)\n",
    "print(value1 ** value2)\n"
   ]
  },
  {
   "cell_type": "code",
   "execution_count": 69,
   "metadata": {},
   "outputs": [
    {
     "name": "stdout",
     "output_type": "stream",
     "text": [
      "Enter radius r = 5\n",
      "78.540\n"
     ]
    }
   ],
   "source": [
    "from math import pi\n",
    "area = pi*(pow(float(input(\"Enter radius r = \")),2))\n",
    "print(format(area,\".3f\" )) # with 3 decimal point"
   ]
  },
  {
   "cell_type": "code",
   "execution_count": null,
   "metadata": {},
   "outputs": [],
   "source": []
  }
 ],
 "metadata": {
  "kernelspec": {
   "display_name": "Python 3",
   "language": "python",
   "name": "python3"
  },
  "language_info": {
   "codemirror_mode": {
    "name": "ipython",
    "version": 3
   },
   "file_extension": ".py",
   "mimetype": "text/x-python",
   "name": "python",
   "nbconvert_exporter": "python",
   "pygments_lexer": "ipython3",
   "version": "3.8.5"
  }
 },
 "nbformat": 4,
 "nbformat_minor": 4
}
