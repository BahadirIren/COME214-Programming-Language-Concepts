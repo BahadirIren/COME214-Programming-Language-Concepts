{
 "cells": [
  {
   "cell_type": "code",
   "execution_count": 1,
   "metadata": {},
   "outputs": [
    {
     "name": "stdout",
     "output_type": "stream",
     "text": [
      "hello\n"
     ]
    }
   ],
   "source": [
    "def my_function():\n",
    "    print(\"hello\")\n",
    "    \n",
    "my_function()"
   ]
  },
  {
   "cell_type": "code",
   "execution_count": 3,
   "metadata": {},
   "outputs": [
    {
     "name": "stdout",
     "output_type": "stream",
     "text": [
      "Will Smith\n",
      "Sam Smith\n"
     ]
    }
   ],
   "source": [
    "def my_function(fname):\n",
    "    print(fname + \" Smith\")\n",
    "    \n",
    "my_function(\"Will\")\n",
    "my_function(\"Sam\")"
   ]
  },
  {
   "cell_type": "code",
   "execution_count": 5,
   "metadata": {},
   "outputs": [
    {
     "name": "stdout",
     "output_type": "stream",
     "text": [
      "Will Smith\n"
     ]
    }
   ],
   "source": [
    "def my_function(fname, lname):\n",
    "    print(fname + \" \" + lname)\n",
    "    \n",
    "my_function(\"Will\", \"Smith\")"
   ]
  },
  {
   "cell_type": "code",
   "execution_count": 8,
   "metadata": {},
   "outputs": [
    {
     "name": "stdout",
     "output_type": "stream",
     "text": [
      "30.25\n",
      "36\n"
     ]
    }
   ],
   "source": [
    "def square(number):\n",
    "    return number ** 2\n",
    "squared = square(5.5)\n",
    "print(squared)\n",
    "my_number = 6\n",
    "print(square(my_number))"
   ]
  },
  {
   "cell_type": "code",
   "execution_count": 12,
   "metadata": {},
   "outputs": [
    {
     "name": "stdout",
     "output_type": "stream",
     "text": [
      "Enter a number: 3\n",
      "27\n"
     ]
    }
   ],
   "source": [
    "# calculate cube of number\n",
    "import math\n",
    "\n",
    "def cube(number):\n",
    "    return pow(number,3)\n",
    "\n",
    "number = int(input(\"Enter a number: \"))\n",
    "cubed = cube(number)\n",
    "print(cubed)"
   ]
  },
  {
   "cell_type": "code",
   "execution_count": 14,
   "metadata": {},
   "outputs": [
    {
     "name": "stdout",
     "output_type": "stream",
     "text": [
      "25\n",
      "75\n",
      "85\n"
     ]
    }
   ],
   "source": [
    "def my_function(x):\n",
    "    return 5*x\n",
    "\n",
    "print(my_function(5))\n",
    "print(my_function(15))\n",
    "print(my_function(17))"
   ]
  },
  {
   "cell_type": "code",
   "execution_count": 40,
   "metadata": {},
   "outputs": [
    {
     "name": "stdout",
     "output_type": "stream",
     "text": [
      "Enter a number: 5\n",
      "120\n"
     ]
    }
   ],
   "source": [
    "# compute the factorial of given number\n",
    "\n",
    "def factorial(number):\n",
    "    factorial = 1\n",
    "    for i in range(2, number+1):\n",
    "        factorial *= number\n",
    "        number -=1\n",
    "        \n",
    "    return factorial\n",
    "\n",
    "number = int(input(\"Enter a number: \"))\n",
    "print(factorial(number))"
   ]
  },
  {
   "cell_type": "code",
   "execution_count": 32,
   "metadata": {},
   "outputs": [
    {
     "name": "stdout",
     "output_type": "stream",
     "text": [
      "5\n"
     ]
    }
   ],
   "source": [
    "# define a function returns the absolute number\n",
    "\n",
    "def absolute(number):\n",
    "    if number < 0:\n",
    "        return -number\n",
    "    else:\n",
    "        return number\n",
    "    \n",
    "print(absolute(-5))"
   ]
  },
  {
   "cell_type": "code",
   "execution_count": 33,
   "metadata": {},
   "outputs": [
    {
     "name": "stdout",
     "output_type": "stream",
     "text": [
      "inside function 10\n",
      "outside function 20\n"
     ]
    }
   ],
   "source": [
    "def my_function():\n",
    "    x = 10\n",
    "    print(\"inside function\" , x)\n",
    "\n",
    "x = 20\n",
    "my_function()\n",
    "print(\"outside function\", x)"
   ]
  },
  {
   "cell_type": "code",
   "execution_count": 36,
   "metadata": {},
   "outputs": [
    {
     "name": "stdout",
     "output_type": "stream",
     "text": [
      "Enter a number: 5\n",
      "170\n"
     ]
    }
   ],
   "source": [
    "# calculate difference between squared sum of n natural numbers and sum squared first n natural numbers\n",
    "'''\n",
    "1+2+3+4+5= 15 (15*15)=225 sum_square\n",
    "1*1+2*2+3*3+4*4+5*5 = 55  square_sum\n",
    "\n",
    "225-55\n",
    "'''\n",
    "\n",
    "def squared_sum(number):\n",
    "    sum = 0\n",
    "    for i in range(number + 1):\n",
    "        sum += i**2\n",
    "        \n",
    "    return sum\n",
    "\n",
    "def sum_squared(number):\n",
    "    sum = 0\n",
    "    for i in range(number + 1):\n",
    "        sum += i\n",
    "        \n",
    "    return sum**2\n",
    "\n",
    "number = int(input(\"Enter a number: \"))\n",
    "difference = sum_squared(number) - squared_sum(number)\n",
    "print(difference)"
   ]
  },
  {
   "cell_type": "code",
   "execution_count": 42,
   "metadata": {},
   "outputs": [
    {
     "name": "stdout",
     "output_type": "stream",
     "text": [
      "Enter a number: 5\n",
      "170\n"
     ]
    }
   ],
   "source": [
    "# calculate difference between squared sum of n natural numbers and sum squared of first n natural numbers\n",
    "'''\n",
    "1+2+3+4+5= 15 (15*15)=225\n",
    "1*1+2*2+3*3+4*4+5*5 = 55\n",
    "\n",
    "225-55\n",
    "'''\n",
    "\n",
    "def diff_sum(number):\n",
    "    sum_square = 0\n",
    "    square_sum = 0\n",
    "    \n",
    "    for i in range(number + 1):\n",
    "        sum_square += i\n",
    "        square_sum += i**2\n",
    "        \n",
    "    sum_square = sum_square **2\n",
    "    \n",
    "    return sum_square - square_sum\n",
    "\n",
    "number = int(input(\"Enter a number: \"))\n",
    "print(diff_sum(number))"
   ]
  },
  {
   "cell_type": "code",
   "execution_count": 49,
   "metadata": {},
   "outputs": [
    {
     "name": "stdout",
     "output_type": "stream",
     "text": [
      "Enter 1 for km to miles, 2 for miles to km: 1\n",
      "Enter the distance: 5\n",
      "('distance in miles:', 3.107520198881293)\n"
     ]
    }
   ],
   "source": [
    "# convert miles and kilometers\n",
    "# miles = km / 1.609 \n",
    "# km = miles * 1.609\n",
    "\n",
    "def km_to_miles(number):\n",
    "    return (\"distance in miles:\", number / 1.609)\n",
    "    \n",
    "    \n",
    "def miles_to_km(number):\n",
    "    return (\"distance in km:\" , number * 1.609)\n",
    "\n",
    "choice = int(input(\"Enter 1 for km to miles, 2 for miles to km: \"))\n",
    "distance = float(input(\"Enter the distance: \"))\n",
    "\n",
    "if choice == 1:\n",
    "    print(km_to_miles(distance))\n",
    "elif choice == 2:\n",
    "    print(miles_to_km(distance))\n",
    "else:\n",
    "    print(\"Invalid choice entered\")"
   ]
  },
  {
   "cell_type": "code",
   "execution_count": null,
   "metadata": {},
   "outputs": [],
   "source": []
  }
 ],
 "metadata": {
  "kernelspec": {
   "display_name": "Python 3",
   "language": "python",
   "name": "python3"
  },
  "language_info": {
   "codemirror_mode": {
    "name": "ipython",
    "version": 3
   },
   "file_extension": ".py",
   "mimetype": "text/x-python",
   "name": "python",
   "nbconvert_exporter": "python",
   "pygments_lexer": "ipython3",
   "version": "3.8.5"
  }
 },
 "nbformat": 4,
 "nbformat_minor": 4
}
