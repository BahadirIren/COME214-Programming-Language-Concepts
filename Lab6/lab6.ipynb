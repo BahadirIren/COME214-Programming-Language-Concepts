{
 "cells": [
  {
   "cell_type": "code",
   "execution_count": 42,
   "metadata": {},
   "outputs": [
    {
     "name": "stdout",
     "output_type": "stream",
     "text": [
      "*\n",
      "**\n",
      "***\n",
      "****\n",
      "*****\n",
      "******\n",
      "*******\n",
      "********\n",
      "*********\n",
      "**********\n"
     ]
    }
   ],
   "source": [
    "for i in range(1,11):\n",
    "    print(\"*\"*i)"
   ]
  },
  {
   "cell_type": "code",
   "execution_count": 11,
   "metadata": {},
   "outputs": [
    {
     "name": "stdout",
     "output_type": "stream",
     "text": [
      "* \n",
      "* * \n",
      "* * * \n",
      "* * * * \n",
      "* * * * * \n",
      "* * * * * * \n",
      "* * * * * * * \n",
      "* * * * * * * * \n",
      "* * * * * * * * * \n",
      "* * * * * * * * * * \n"
     ]
    }
   ],
   "source": [
    "for i in range(1,11):\n",
    "    for j in range(1,i+1):\n",
    "        print(\"*\", end=\" \")\n",
    "    print()"
   ]
  },
  {
   "cell_type": "code",
   "execution_count": 10,
   "metadata": {},
   "outputs": [
    {
     "name": "stdout",
     "output_type": "stream",
     "text": [
      "1 \n",
      "1 2 \n",
      "1 2 3 \n",
      "1 2 3 4 \n",
      "1 2 3 4 5 \n",
      "1 2 3 4 5 6 \n",
      "1 2 3 4 5 6 7 \n",
      "1 2 3 4 5 6 7 8 \n",
      "1 2 3 4 5 6 7 8 9 \n",
      "1 2 3 4 5 6 7 8 9 10 \n"
     ]
    }
   ],
   "source": [
    "for i in range(1,11):\n",
    "    for j in range(1,i+1):\n",
    "        print(j,end=\" \")\n",
    "    print()"
   ]
  },
  {
   "cell_type": "code",
   "execution_count": 26,
   "metadata": {},
   "outputs": [
    {
     "name": "stdout",
     "output_type": "stream",
     "text": [
      "* * * * * * * * * * \n",
      "* * * * * * * * * \n",
      "* * * * * * * * \n",
      "* * * * * * * \n",
      "* * * * * * \n",
      "* * * * * \n",
      "* * * * \n",
      "* * * \n",
      "* * \n",
      "* \n"
     ]
    }
   ],
   "source": [
    "for i in range(10, 0, -1):\n",
    "    for j in range(0, i):\n",
    "        print(\"*\",end=\" \")\n",
    "    print()    "
   ]
  },
  {
   "cell_type": "code",
   "execution_count": 30,
   "metadata": {},
   "outputs": [
    {
     "name": "stdout",
     "output_type": "stream",
     "text": [
      "1 2 3 4 5 6 7 8 9 10 \n",
      "1 2 3 4 5 6 7 8 9 \n",
      "1 2 3 4 5 6 7 8 \n",
      "1 2 3 4 5 6 7 \n",
      "1 2 3 4 5 6 \n",
      "1 2 3 4 5 \n",
      "1 2 3 4 \n",
      "1 2 3 \n",
      "1 2 \n",
      "1 \n"
     ]
    }
   ],
   "source": [
    "for i in range(11, 1, -1):\n",
    "    for j in range(1, i):\n",
    "        print(j,end=\" \")\n",
    "    print()"
   ]
  },
  {
   "cell_type": "code",
   "execution_count": 60,
   "metadata": {},
   "outputs": [
    {
     "name": "stdout",
     "output_type": "stream",
     "text": [
      "How many drink containers 1 liter or less do you have? 4\n",
      "How many drink containers more than 1 liter do you have? 3\n",
      "\n",
      "For 1 liter or less: 0.40 $\n",
      "For more than 1 liter: 0.75 $\n",
      "\n",
      "Total: 1.15 $\n",
      "Your total refund will be $1.15\n"
     ]
    }
   ],
   "source": [
    "less_count = int(input(\"How many drink containers 1 liter or less do you have? \"))\n",
    "more_count = int(input(\"How many drink containers more than 1 liter do you have? \"))\n",
    "\n",
    "less = less_count * 0.10\n",
    "more = more_count * 0.25\n",
    "total = more + less\n",
    "\n",
    "print(\"\\nFor 1 liter or less:\", format(less, \".2f\"),\"$\")\n",
    "print(\"For more than 1 liter:\", format(more, \".2f\"),\"$\")\n",
    "print(\"\\nTotal:\", format(total, \".2f\"),\"$\")\n",
    "print(\"Your total refund will be $%.2f\" %total)"
   ]
  },
  {
   "cell_type": "code",
   "execution_count": 67,
   "metadata": {},
   "outputs": [
    {
     "name": "stdout",
     "output_type": "stream",
     "text": [
      "Enter your amount of money in cents: 1352\n",
      "Toonies:  6\n",
      "Loonie:  1\n",
      "Quarter:  2\n",
      "Dime:  0\n",
      "Nickel:  0\n",
      "Pennies: 2\n"
     ]
    }
   ],
   "source": [
    "'''\n",
    "toonie = 200 cents\n",
    "loonie = 100 cents\n",
    "quarter = 25 cents\n",
    "dime = 10 cents\n",
    "nickel = 5 cents\n",
    "pennies = 1 cent\n",
    "\n",
    "'''\n",
    "\n",
    "money = int(input(\"Enter your amount of money in cents: \"))\n",
    "\n",
    "toonie = 200 \n",
    "loonie = 100 \n",
    "quarter = 25 \n",
    "dime = 10 \n",
    "nickel = 5 \n",
    "pennie = 1\n",
    "\n",
    "toonie_count = money // toonie\n",
    "money = money % toonie\n",
    "\n",
    "loonie_count = money // loonie\n",
    "money = money % loonie\n",
    "\n",
    "quarter_count = money // quarter\n",
    "money = money % quarter\n",
    "\n",
    "dime_count = money // dime\n",
    "money = money % dime\n",
    "\n",
    "nickel_count = money // nickel\n",
    "money = money % nickel\n",
    "\n",
    "pennie_count = money // pennie\n",
    "\n",
    "print(\"Toonies: \",toonie_count)\n",
    "print(\"Loonie: \",loonie_count)\n",
    "print(\"Quarter: \",quarter_count)\n",
    "print(\"Dime: \",dime_count)\n",
    "print(\"Nickel: \",nickel_count)\n",
    "print(\"Pennies:\",pennie_count)"
   ]
  },
  {
   "cell_type": "code",
   "execution_count": 69,
   "metadata": {},
   "outputs": [
    {
     "name": "stdout",
     "output_type": "stream",
     "text": [
      "Enter your amount of money in cents: 1352\n",
      "6 toonies\n",
      "1 loonies\n",
      "2 quarters\n",
      "0 dimes\n",
      "0 nickels\n",
      "2 pennies\n"
     ]
    }
   ],
   "source": [
    "'''\n",
    "toonie = 200 cents\n",
    "loonie = 100 cents\n",
    "quarter = 25 cents\n",
    "dime = 10 cents\n",
    "nickel = 5 cents\n",
    "pennies = 1 cent\n",
    "\n",
    "'''\n",
    "\n",
    "money = int(input(\"Enter your amount of money in cents: \"))\n",
    "\n",
    "toonie = 200 \n",
    "loonie = 100 \n",
    "quarter = 25 \n",
    "dime = 10 \n",
    "nickel = 5 \n",
    "pennie = 1\n",
    "\n",
    "print(money // toonie,\"toonies\")\n",
    "money = money % toonie\n",
    "\n",
    "print(money // loonie,\"loonies\")\n",
    "money = money % loonie\n",
    "\n",
    "print(money // quarter,\"quarters\")\n",
    "money = money % quarter\n",
    "\n",
    "print(money // dime,\"dimes\")\n",
    "money = money % dime\n",
    "\n",
    "print(money // nickel,\"nickels\")\n",
    "money = money % nickel\n",
    "\n",
    "print(money // pennie,\"pennies\")\n"
   ]
  },
  {
   "cell_type": "code",
   "execution_count": null,
   "metadata": {},
   "outputs": [],
   "source": []
  }
 ],
 "metadata": {
  "kernelspec": {
   "display_name": "Python 3",
   "language": "python",
   "name": "python3"
  },
  "language_info": {
   "codemirror_mode": {
    "name": "ipython",
    "version": 3
   },
   "file_extension": ".py",
   "mimetype": "text/x-python",
   "name": "python",
   "nbconvert_exporter": "python",
   "pygments_lexer": "ipython3",
   "version": "3.8.5"
  }
 },
 "nbformat": 4,
 "nbformat_minor": 4
}
