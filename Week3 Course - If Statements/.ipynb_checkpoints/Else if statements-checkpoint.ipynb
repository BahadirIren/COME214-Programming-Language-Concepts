{
 "cells": [
  {
   "cell_type": "code",
   "execution_count": 2,
   "metadata": {},
   "outputs": [
    {
     "name": "stdout",
     "output_type": "stream",
     "text": [
      "its nice to see you\n"
     ]
    }
   ],
   "source": [
    "b = False\n",
    "\n",
    "if b :\n",
    "    print(\"hello\")\n",
    "else :\n",
    "    print(\"its nice to see you\")"
   ]
  },
  {
   "cell_type": "code",
   "execution_count": 5,
   "metadata": {},
   "outputs": [
    {
     "name": "stdout",
     "output_type": "stream",
     "text": [
      "False\n",
      "True\n"
     ]
    }
   ],
   "source": [
    "print(not a)\n",
    "print(not b)"
   ]
  },
  {
   "cell_type": "code",
   "execution_count": 7,
   "metadata": {},
   "outputs": [
    {
     "name": "stdout",
     "output_type": "stream",
     "text": [
      "False\n",
      "True\n"
     ]
    }
   ],
   "source": [
    "print(a and b)\n",
    "print(a or b)"
   ]
  },
  {
   "cell_type": "code",
   "execution_count": 9,
   "metadata": {},
   "outputs": [
    {
     "name": "stdout",
     "output_type": "stream",
     "text": [
      "Enter a number: -1\n",
      "-1 is negative\n"
     ]
    }
   ],
   "source": [
    "num1 = int(input(\"Enter a number: \"))\n",
    "\n",
    "if num1 > 0 :\n",
    "    print(num1 ,\"is positive\")\n",
    "else :\n",
    "    print(num1 ,\"is negative\")"
   ]
  },
  {
   "cell_type": "code",
   "execution_count": 27,
   "metadata": {},
   "outputs": [
    {
     "name": "stdout",
     "output_type": "stream",
     "text": [
      "Enter first side of the triangle: 1\n",
      "Enter second side of the triangle: 2\n",
      "Enter third side of the triangle: 2\n",
      "isosceles\n"
     ]
    }
   ],
   "source": [
    "# Accepts three sides of a triangle and check whether it is an equilateral, isosceles or scalane triangle\n",
    "num1 = int(input(\"Enter first side of the triangle: \"))\n",
    "num2 = int(input(\"Enter second side of the triangle: \"))\n",
    "num3 = int(input(\"Enter third side of the triangle: \"))\n",
    "\n",
    "if num1 == num2 and num1 == num3 :\n",
    "    print(\"equilateral\")\n",
    "elif num1 != num2 and num2 != num3 and num1 != num3 :\n",
    "    print(\"scalane\")\n",
    "else :\n",
    "    print(\"isosceles\")"
   ]
  },
  {
   "cell_type": "code",
   "execution_count": 41,
   "metadata": {},
   "outputs": [
    {
     "name": "stdout",
     "output_type": "stream",
     "text": [
      "Enter a number: 5\n",
      "Enter operation: (* , / , + , - , ** , //, %): **\n",
      "Enter a number: 2\n",
      "25\n"
     ]
    }
   ],
   "source": [
    "# write a program to accept two numbers and mathematical operators and perform operation accordingly\n",
    "num1 = int(input(\"Enter a number: \"))\n",
    "operation = input(\"Enter operation: (* , / , + , - , ** , //, %): \")\n",
    "num2 = int(input(\"Enter a number: \"))\n",
    "\n",
    "if operation == '+' :\n",
    "    print(num1 + num2)\n",
    "elif operation == '*' :\n",
    "    print(num1 * num2)\n",
    "elif operation == '-' :\n",
    "    print(num1 - num2)\n",
    "elif operation == '/' :\n",
    "    print(num1 / num2)\n",
    "elif operation == '**' :\n",
    "    print(num1 ** num2)\n",
    "elif operation == '//' :\n",
    "    print(num1 // num2)\n",
    "elif operation == '%' :\n",
    "    print(num1 % num2)\n",
    "else :\n",
    "    print(\"invalid operator entered\")\n"
   ]
  },
  {
   "cell_type": "code",
   "execution_count": null,
   "metadata": {},
   "outputs": [],
   "source": []
  }
 ],
 "metadata": {
  "kernelspec": {
   "display_name": "Python 3",
   "language": "python",
   "name": "python3"
  },
  "language_info": {
   "codemirror_mode": {
    "name": "ipython",
    "version": 3
   },
   "file_extension": ".py",
   "mimetype": "text/x-python",
   "name": "python",
   "nbconvert_exporter": "python",
   "pygments_lexer": "ipython3",
   "version": "3.8.5"
  }
 },
 "nbformat": 4,
 "nbformat_minor": 4
}
