{
 "cells": [
  {
   "cell_type": "code",
   "execution_count": 8,
   "metadata": {},
   "outputs": [
    {
     "name": "stdout",
     "output_type": "stream",
     "text": [
      "Enter the number of characters that you want to print: 5\n",
      "\n",
      "Enter a character: Hello\n",
      "Hello Hello Hello Hello Hello \n",
      "\n",
      "Enter the number of characters that you want to print: -1\n",
      "\n",
      "Program is finished!\n"
     ]
    }
   ],
   "source": [
    "n = int(input(\"Enter the number of characters that you want to print: \"))\n",
    "\n",
    "while n != -1:\n",
    "    ch = input(\"\\nEnter a character: \")\n",
    "    for i in range(1, n+1):\n",
    "        print(ch, end=\" \")\n",
    "    print()\n",
    "    n = int(input(\"\\nEnter the number of characters that you want to print: \"))\n",
    "    if n == -1:\n",
    "        print(\"\\nProgram is finished!\")"
   ]
  },
  {
   "cell_type": "code",
   "execution_count": 31,
   "metadata": {},
   "outputs": [
    {
     "name": "stdout",
     "output_type": "stream",
     "text": [
      "Enter a number: 12\n",
      "12 -> 6 -> 3 -> 10 -> 5 -> 16 -> 8 -> 4 -> 2 -> 1\n"
     ]
    }
   ],
   "source": [
    "# ulam sequence\n",
    "n = int(input(\"Enter a number: \"))\n",
    "\n",
    "while n != 1:\n",
    "    if n % 2 == 1:\n",
    "        print(n , \"->\", end=\" \")\n",
    "        n = n * 3 + 1\n",
    "    else:\n",
    "        print(n , \"->\", end=\" \")\n",
    "        n = n // 2\n",
    "        if n == 1:\n",
    "            print(1)  "
   ]
  },
  {
   "cell_type": "code",
   "execution_count": 58,
   "metadata": {},
   "outputs": [
    {
     "name": "stdout",
     "output_type": "stream",
     "text": [
      "0 1 1 2 3 5 8 13 21 34 55 89 144 233 377 610 987 1597 2584 4181 "
     ]
    }
   ],
   "source": [
    "# fibonacci\n",
    "\n",
    "n1 = 0\n",
    "n2 = 1\n",
    "count = 0\n",
    "\n",
    "while count < 20:\n",
    "    print(n1,end=\" \")\n",
    "    temp = n1 + n2\n",
    "    n1 = n2\n",
    "    n2 = temp\n",
    "    count += 1"
   ]
  },
  {
   "cell_type": "code",
   "execution_count": 60,
   "metadata": {},
   "outputs": [
    {
     "name": "stdout",
     "output_type": "stream",
     "text": [
      "0 1 1 2 3 5 8 13 21 34 55 89 144 233 377 610 987 1597 2584 4181 "
     ]
    }
   ],
   "source": [
    "# fibonacci \n",
    "\n",
    "a,b = 0,1\n",
    "print(a,b,end=\" \")\n",
    "\n",
    "i = 1\n",
    "while i <= 18:\n",
    "    a,b = b,a+b\n",
    "    print(b,end=\" \")\n",
    "    i += 1"
   ]
  },
  {
   "cell_type": "code",
   "execution_count": 44,
   "metadata": {},
   "outputs": [
    {
     "name": "stdout",
     "output_type": "stream",
     "text": [
      "How many fibonacci numbers do you want to see?: 5\n",
      "0 1 1 2 3 "
     ]
    }
   ],
   "source": [
    "num = int(input(\"How many fibonacci numbers do you want to see?: \"))\n",
    "\n",
    "a,b = 0,1\n",
    "print(a,b,end=\" \")\n",
    "\n",
    "i = 1\n",
    "while i <= num - 2:\n",
    "    a,b = b,a+b\n",
    "    print(b,end=\" \")\n",
    "    i += 1"
   ]
  },
  {
   "cell_type": "code",
   "execution_count": 47,
   "metadata": {},
   "outputs": [
    {
     "name": "stdout",
     "output_type": "stream",
     "text": [
      "2\n",
      "12\n"
     ]
    }
   ],
   "source": [
    "a = (2,3,4)\n",
    "print(min(a))\n",
    "print(min(65,12))"
   ]
  },
  {
   "cell_type": "code",
   "execution_count": 56,
   "metadata": {},
   "outputs": [
    {
     "name": "stdout",
     "output_type": "stream",
     "text": [
      "Enter a positive integer number: 72\n",
      "Enter a positive integer number: 24\n",
      "The greatest common divisor of 72 and 24 is: 24\n"
     ]
    }
   ],
   "source": [
    "# Greater Common Divisor\n",
    "\n",
    "num1 = int(input(\"Enter a positive integer number: \"))\n",
    "num2 = int(input(\"Enter a positive integer number: \"))\n",
    "\n",
    "divisor = min(num1,num2)\n",
    "\n",
    "while num1 % divisor != 0 or num2 % divisor != 0:\n",
    "    divisor -= 1\n",
    "    \n",
    "print(f\"The greatest common divisor of {num1} and {num2} is: {divisor}\")"
   ]
  },
  {
   "cell_type": "code",
   "execution_count": null,
   "metadata": {},
   "outputs": [],
   "source": []
  }
 ],
 "metadata": {
  "kernelspec": {
   "display_name": "Python 3",
   "language": "python",
   "name": "python3"
  },
  "language_info": {
   "codemirror_mode": {
    "name": "ipython",
    "version": 3
   },
   "file_extension": ".py",
   "mimetype": "text/x-python",
   "name": "python",
   "nbconvert_exporter": "python",
   "pygments_lexer": "ipython3",
   "version": "3.8.5"
  }
 },
 "nbformat": 4,
 "nbformat_minor": 4
}
