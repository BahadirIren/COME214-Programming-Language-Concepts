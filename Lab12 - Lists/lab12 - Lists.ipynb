{
 "cells": [
  {
   "cell_type": "code",
   "execution_count": 8,
   "metadata": {},
   "outputs": [
    {
     "name": "stdout",
     "output_type": "stream",
     "text": [
      "3 5 7 11 "
     ]
    }
   ],
   "source": [
    "# define function which finds prime number between give two numbers\n",
    "\n",
    "def prime(num1, num2):\n",
    "    for number in range(num1, num2+1):\n",
    "        if number > 1:\n",
    "            for i in range(2, number):\n",
    "                if number % i == 0:\n",
    "                    break\n",
    "            else:\n",
    "                print(number, end=\" \")\n",
    "                \n",
    "                \n",
    "prime(3,12)"
   ]
  },
  {
   "cell_type": "code",
   "execution_count": 32,
   "metadata": {},
   "outputs": [
    {
     "name": "stdout",
     "output_type": "stream",
     "text": [
      "['p', 'r', 'o', 'g', 'r', 'a', 'm', 'm', 'i', 'n', 'g']\n",
      "programming\n",
      "o\n",
      "n\n",
      "['o', 'g', 'r']\n"
     ]
    }
   ],
   "source": [
    "L = [1,2,3,4]\n",
    "L = [1,\"Hello\",3,4]\n",
    "L = [1,2,3,[1,\"Hello\",3,4]]  # nested list\n",
    "my_list = [\"p\", \"r\", \"o\",\"g\", \"r\", \"a\", \"m\", \"m\", \"i\", \"n\", \"g\"]\n",
    "print(my_list)\n",
    "print(\"\".join(my_list))\n",
    "print(my_list[2])\n",
    "print(my_list[-2])\n",
    "print(my_list[2:5])"
   ]
  },
  {
   "cell_type": "code",
   "execution_count": 21,
   "metadata": {},
   "outputs": [
    {
     "name": "stdout",
     "output_type": "stream",
     "text": [
      "[1, 4, 6, 8]\n",
      "[1, 3, 5, 7]\n",
      "[1, 3, 5, 7, 9]\n",
      "[1, 3, 5, 7, 9, 11, 13]\n",
      "[1, 3, 5, 7, 9, 11, 13, 15, 17]\n",
      "[[1, 3, 5, 7, 9, 11, 13], [1, 3, 5, 7, 9, 11, 13]]\n",
      "['*', '*', '*']\n"
     ]
    }
   ],
   "source": [
    "odd = [2,4,6,8]\n",
    "odd[0] = 1\n",
    "print(odd)\n",
    "odd[1:4] = [3,5,7]\n",
    "print(odd)\n",
    "\n",
    "odd.append(9)\n",
    "print(odd)\n",
    "\n",
    "odd.extend([11,13])\n",
    "print(odd)\n",
    "\n",
    "print(odd + [15,17])\n",
    "print([odd]*2)\n",
    "print([\"*\"]*3)"
   ]
  },
  {
   "cell_type": "code",
   "execution_count": 28,
   "metadata": {},
   "outputs": [
    {
     "name": "stdout",
     "output_type": "stream",
     "text": [
      "[1, 3, 5, 7, 9]\n",
      "[2, 4, 6, 8]\n"
     ]
    }
   ],
   "source": [
    "x = [1,2,3,4,5,6,7,8,9]\n",
    "print(x[::2]) # prints odd numbers\n",
    "print(x[1::2]) # prints even numbers"
   ]
  },
  {
   "cell_type": "code",
   "execution_count": 30,
   "metadata": {},
   "outputs": [
    {
     "name": "stdout",
     "output_type": "stream",
     "text": [
      "[1, 2, 3, 'red', 'white', 'blue']\n"
     ]
    }
   ],
   "source": [
    "list1 = [1,2,3]\n",
    "list2 = [\"red\",\"white\",\"blue\"]\n",
    "\n",
    "list = list1 + list2\n",
    "print(list)"
   ]
  },
  {
   "cell_type": "code",
   "execution_count": 47,
   "metadata": {},
   "outputs": [
    {
     "name": "stdout",
     "output_type": "stream",
     "text": [
      "[1, 9, 3, 5]\n",
      "[1, 9, 7, 11, 3, 5]\n"
     ]
    }
   ],
   "source": [
    "odd = [1,3,5]\n",
    "\n",
    "odd.insert(1,9)\n",
    "print(odd)\n",
    "odd[2:2] = [7,11]\n",
    "print(odd)"
   ]
  },
  {
   "cell_type": "code",
   "execution_count": 48,
   "metadata": {},
   "outputs": [
    {
     "name": "stdout",
     "output_type": "stream",
     "text": [
      "['p', 'r', 'g', 'r', 'a', 'm', 'm', 'i', 'n', 'g']\n",
      "['p', 'r', 'a', 'm', 'm', 'i', 'n', 'g']\n",
      "['r', 'a', 'm', 'm', 'i', 'n', 'g']\n"
     ]
    }
   ],
   "source": [
    "my_list = [\"p\", \"r\", \"o\",\"g\", \"r\", \"a\", \"m\", \"m\", \"i\", \"n\", \"g\"]\n",
    "\n",
    "del my_list[2]\n",
    "print(my_list)\n",
    "\n",
    "del my_list[2:4]\n",
    "print(my_list)\n",
    "\n",
    "my_list.remove(\"p\")\n",
    "print(my_list)"
   ]
  },
  {
   "cell_type": "code",
   "execution_count": 1,
   "metadata": {},
   "outputs": [
    {
     "name": "stdout",
     "output_type": "stream",
     "text": [
      "1\n"
     ]
    }
   ],
   "source": [
    "num = [30,12,40,-5]\n",
    "\n",
    "print(num.index(12))"
   ]
  },
  {
   "cell_type": "code",
   "execution_count": 2,
   "metadata": {},
   "outputs": [
    {
     "name": "stdout",
     "output_type": "stream",
     "text": [
      "30\n",
      "12\n",
      "40\n",
      "-5\n"
     ]
    }
   ],
   "source": [
    "num = [30,12,40,-5]\n",
    "\n",
    "for a in num:\n",
    "    print(a)"
   ]
  },
  {
   "cell_type": "code",
   "execution_count": 3,
   "metadata": {},
   "outputs": [
    {
     "name": "stdout",
     "output_type": "stream",
     "text": [
      "30\n",
      "12\n",
      "40\n",
      "-5\n"
     ]
    }
   ],
   "source": [
    "num = [30,12,40,-5]\n",
    "\n",
    "for a in range(len(num)):\n",
    "    print(num[a])"
   ]
  },
  {
   "cell_type": "code",
   "execution_count": 5,
   "metadata": {},
   "outputs": [
    {
     "name": "stdout",
     "output_type": "stream",
     "text": [
      "Your list contains 5\n",
      "Your list has no 0\n"
     ]
    }
   ],
   "source": [
    "num = [30,12,5,40,-5]\n",
    "\n",
    "if 5 in num:\n",
    "    print(\"Your list contains 5\")\n",
    "if 0 not in num:\n",
    "    print(\"Your list has no 0\")"
   ]
  },
  {
   "cell_type": "code",
   "execution_count": 6,
   "metadata": {},
   "outputs": [
    {
     "name": "stdout",
     "output_type": "stream",
     "text": [
      "I like apple\n",
      "I like banana\n",
      "I like cherry\n"
     ]
    }
   ],
   "source": [
    "for fruit in [\"apple\", \"banana\",\"cherry\"]:\n",
    "    print(\"I like\", fruit)"
   ]
  },
  {
   "cell_type": "code",
   "execution_count": 8,
   "metadata": {},
   "outputs": [
    {
     "name": "stdout",
     "output_type": "stream",
     "text": [
      "True\n",
      "False\n"
     ]
    }
   ],
   "source": [
    "num = [30,12,5,40,-5]\n",
    "\n",
    "print(5 in num)\n",
    "print(0 in num)"
   ]
  },
  {
   "cell_type": "code",
   "execution_count": 10,
   "metadata": {},
   "outputs": [
    {
     "name": "stdout",
     "output_type": "stream",
     "text": [
      "[1, 2, 4, 8, 16, 32, 64, 128, 256, 512]\n"
     ]
    }
   ],
   "source": [
    "list = []\n",
    "for i in range(10):\n",
    "    list.append(2**i)\n",
    "print(list)"
   ]
  },
  {
   "cell_type": "code",
   "execution_count": 20,
   "metadata": {},
   "outputs": [
    {
     "name": "stdout",
     "output_type": "stream",
     "text": [
      "[1, 2, 4, 8, 16, 32, 64, 128, 256, 512]\n"
     ]
    }
   ],
   "source": [
    "list = [2**i for i in range(10)]\n",
    "print(list)"
   ]
  },
  {
   "cell_type": "code",
   "execution_count": 13,
   "metadata": {},
   "outputs": [
    {
     "name": "stdout",
     "output_type": "stream",
     "text": [
      "[64, 128, 256, 512]\n"
     ]
    }
   ],
   "source": [
    "list = [2**x for x in range(6,10)]\n",
    "print(list)"
   ]
  },
  {
   "cell_type": "code",
   "execution_count": 17,
   "metadata": {},
   "outputs": [
    {
     "name": "stdout",
     "output_type": "stream",
     "text": [
      "[64, 128, 256, 512]\n"
     ]
    }
   ],
   "source": [
    "list = [2**x for x in range(10) if x > 5]\n",
    "print(list)"
   ]
  },
  {
   "cell_type": "code",
   "execution_count": 19,
   "metadata": {},
   "outputs": [
    {
     "name": "stdout",
     "output_type": "stream",
     "text": [
      "[1, 3, 5, 7, 9, 11, 13, 15, 17, 19, 21, 23, 25, 27, 29]\n"
     ]
    }
   ],
   "source": [
    "list = [x for x in range(30) if x % 2 == 1]\n",
    "print(list)"
   ]
  },
  {
   "cell_type": "code",
   "execution_count": 28,
   "metadata": {},
   "outputs": [
    {
     "name": "stdout",
     "output_type": "stream",
     "text": [
      "['p1', 'q1', 'p2', 'q2', 'p3', 'q3', 'p4', 'q4']\n"
     ]
    }
   ],
   "source": [
    "list = [\"p\",\"q\"]\n",
    "n = 4\n",
    "new_list = [f\"{i}{j}\"  for j in range(1,n+1) for i in list]\n",
    "print(new_list)"
   ]
  },
  {
   "cell_type": "code",
   "execution_count": 57,
   "metadata": {},
   "outputs": [
    {
     "name": "stdout",
     "output_type": "stream",
     "text": [
      "['Python Programming', 'Python Language', 'C Programming', 'C Language']\n"
     ]
    }
   ],
   "source": [
    "list1 = [\"Python\", \"C\"]\n",
    "list2 = [\"Programming\", \"Language\"]\n",
    "\n",
    "new_list = [f\"{i} {j}\" for i in list1 for j in list2]\n",
    "\n",
    "print(new_list)"
   ]
  },
  {
   "cell_type": "code",
   "execution_count": 58,
   "metadata": {},
   "outputs": [
    {
     "name": "stdout",
     "output_type": "stream",
     "text": [
      "['Python Programming', 'Python Language', 'C Programming', 'C Language']\n"
     ]
    }
   ],
   "source": [
    "new_list = [i +\" \"+ j for i in [\"Python\", \"C\"] for j in [\"Programming\", \"Language\"]]\n",
    "\n",
    "print(new_list)"
   ]
  },
  {
   "cell_type": "code",
   "execution_count": 32,
   "metadata": {},
   "outputs": [
    {
     "name": "stdout",
     "output_type": "stream",
     "text": [
      "15\n"
     ]
    }
   ],
   "source": [
    "def list_sum(list):\n",
    "    sum = 0\n",
    "    for i in list:\n",
    "        sum += i\n",
    "    return sum\n",
    "\n",
    "print(list_sum([1,2,3,4,5]))"
   ]
  },
  {
   "cell_type": "code",
   "execution_count": 1,
   "metadata": {},
   "outputs": [
    {
     "name": "stdout",
     "output_type": "stream",
     "text": [
      "[48, 20, 9, 37, 94, 81, 89, 50, 83, 1]\n"
     ]
    }
   ],
   "source": [
    "import random\n",
    "list = [random.randrange(1,101) for i in range(10)]\n",
    "print(list)"
   ]
  },
  {
   "cell_type": "code",
   "execution_count": 59,
   "metadata": {},
   "outputs": [
    {
     "name": "stdout",
     "output_type": "stream",
     "text": [
      "[56, 6, 66, 47, 4, 75, 46, 22, 100, 48]\n",
      "4\n"
     ]
    }
   ],
   "source": [
    "import random\n",
    "list = [random.randrange(1,101) for i in range(10)]\n",
    "\n",
    "count = 0\n",
    "for j in list:\n",
    "    if j > 50:\n",
    "        count += 1\n",
    "\n",
    "print(list)\n",
    "print(count)"
   ]
  },
  {
   "cell_type": "code",
   "execution_count": null,
   "metadata": {},
   "outputs": [],
   "source": []
  }
 ],
 "metadata": {
  "kernelspec": {
   "display_name": "Python 3",
   "language": "python",
   "name": "python3"
  },
  "language_info": {
   "codemirror_mode": {
    "name": "ipython",
    "version": 3
   },
   "file_extension": ".py",
   "mimetype": "text/x-python",
   "name": "python",
   "nbconvert_exporter": "python",
   "pygments_lexer": "ipython3",
   "version": "3.9.5"
  }
 },
 "nbformat": 4,
 "nbformat_minor": 4
}
